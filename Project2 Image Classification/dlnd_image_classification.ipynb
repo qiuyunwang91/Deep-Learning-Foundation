{
 "cells": [
  {
   "cell_type": "markdown",
   "metadata": {
    "collapsed": true,
    "deletable": true,
    "editable": true
   },
   "source": [
    "# Image Classification\n",
    "In this project, you'll classify images from the [CIFAR-10 dataset](https://www.cs.toronto.edu/~kriz/cifar.html).  The dataset consists of airplanes, dogs, cats, and other objects. You'll preprocess the images, then train a convolutional neural network on all the samples. The images need to be normalized and the labels need to be one-hot encoded.  You'll get to apply what you learned and build a convolutional, max pooling, dropout, and fully connected layers.  At the end, you'll get to see your neural network's predictions on the sample images.\n",
    "## Get the Data\n",
    "Run the following cell to download the [CIFAR-10 dataset for python](https://www.cs.toronto.edu/~kriz/cifar-10-python.tar.gz)."
   ]
  },
  {
   "cell_type": "code",
   "execution_count": 1,
   "metadata": {
    "collapsed": false,
    "deletable": true,
    "editable": true
   },
   "outputs": [
    {
     "name": "stderr",
     "output_type": "stream",
     "text": [
      "CIFAR-10 Dataset: 171MB [00:24, 6.94MB/s]                              \n"
     ]
    },
    {
     "name": "stdout",
     "output_type": "stream",
     "text": [
      "All files found!\n"
     ]
    }
   ],
   "source": [
    "\"\"\"\n",
    "DON'T MODIFY ANYTHING IN THIS CELL THAT IS BELOW THIS LINE\n",
    "\"\"\"\n",
    "from urllib.request import urlretrieve\n",
    "from os.path import isfile, isdir\n",
    "from tqdm import tqdm\n",
    "import problem_unittests as tests\n",
    "import tarfile\n",
    "\n",
    "cifar10_dataset_folder_path = 'cifar-10-batches-py'\n",
    "\n",
    "class DLProgress(tqdm):\n",
    "    last_block = 0\n",
    "\n",
    "    def hook(self, block_num=1, block_size=1, total_size=None):\n",
    "        self.total = total_size\n",
    "        self.update((block_num - self.last_block) * block_size)\n",
    "        self.last_block = block_num\n",
    "\n",
    "if not isfile('cifar-10-python.tar.gz'):\n",
    "    with DLProgress(unit='B', unit_scale=True, miniters=1, desc='CIFAR-10 Dataset') as pbar:\n",
    "        urlretrieve(\n",
    "            'https://www.cs.toronto.edu/~kriz/cifar-10-python.tar.gz',\n",
    "            'cifar-10-python.tar.gz',\n",
    "            pbar.hook)\n",
    "\n",
    "if not isdir(cifar10_dataset_folder_path):\n",
    "    with tarfile.open('cifar-10-python.tar.gz') as tar:\n",
    "        tar.extractall()\n",
    "        tar.close()\n",
    "\n",
    "\n",
    "tests.test_folder_path(cifar10_dataset_folder_path)"
   ]
  },
  {
   "cell_type": "markdown",
   "metadata": {
    "deletable": true,
    "editable": true
   },
   "source": [
    "## Explore the Data\n",
    "The dataset is broken into batches to prevent your machine from running out of memory.  The CIFAR-10 dataset consists of 5 batches, named `data_batch_1`, `data_batch_2`, etc.. Each batch contains the labels and images that are one of the following:\n",
    "* airplane\n",
    "* automobile\n",
    "* bird\n",
    "* cat\n",
    "* deer\n",
    "* dog\n",
    "* frog\n",
    "* horse\n",
    "* ship\n",
    "* truck\n",
    "\n",
    "Understanding a dataset is part of making predictions on the data.  Play around with the code cell below by changing the `batch_id` and `sample_id`. The `batch_id` is the id for a batch (1-5). The `sample_id` is the id for a image and label pair in the batch.\n",
    "\n",
    "Ask yourself \"What are all possible labels?\", \"What is the range of values for the image data?\", \"Are the labels in order or random?\".  Answers to questions like these will help you preprocess the data and end up with better predictions."
   ]
  },
  {
   "cell_type": "code",
   "execution_count": 2,
   "metadata": {
    "collapsed": false,
    "deletable": true,
    "editable": true
   },
   "outputs": [
    {
     "name": "stdout",
     "output_type": "stream",
     "text": [
      "\n",
      "Stats of batch 1:\n",
      "Samples: 10000\n",
      "Label Counts: {0: 1005, 1: 974, 2: 1032, 3: 1016, 4: 999, 5: 937, 6: 1030, 7: 1001, 8: 1025, 9: 981}\n",
      "First 20 Labels: [6, 9, 9, 4, 1, 1, 2, 7, 8, 3, 4, 7, 7, 2, 9, 9, 9, 3, 2, 6]\n",
      "\n",
      "Example of Image 5:\n",
      "Image - Min Value: 0 Max Value: 252\n",
      "Image - Shape: (32, 32, 3)\n",
      "Label - Label Id: 1 Name: automobile\n"
     ]
    },
    {
     "data": {
      "image/png": "[encoded data removed]",
      "text/plain": [
       "<matplotlib.figure.Figure at 0x7fe44c34c518>"
      ]
     },
     "metadata": {
      "image/png": {
       "height": 250,
       "width": 253
      }
     },
     "output_type": "display_data"
    }
   ],
   "source": [
    "%matplotlib inline\n",
    "%config InlineBackend.figure_format = 'retina'\n",
    "\n",
    "import helper\n",
    "import numpy as np\n",
    "\n",
    "# Explore the dataset\n",
    "batch_id = 1\n",
    "sample_id = 5\n",
    "helper.display_stats(cifar10_dataset_folder_path, batch_id, sample_id)"
   ]
  },
  {
   "cell_type": "markdown",
   "metadata": {
    "deletable": true,
    "editable": true
   },
   "source": [
    "## Implement Preprocess Functions\n",
    "### Normalize\n",
    "In the cell below, implement the `normalize` function to take in image data, `x`, and return it as a normalized Numpy array. The values should be in the range of 0 to 1, inclusive.  The return object should be the same shape as `x`."
   ]
  },
  {
   "cell_type": "code",
   "execution_count": 3,
   "metadata": {
    "collapsed": false,
    "deletable": true,
    "editable": true
   },
   "outputs": [
    {
     "name": "stdout",
     "output_type": "stream",
     "text": [
      "Tests Passed\n"
     ]
    }
   ],
   "source": [
    "def normalize(x):\n",
    "    \"\"\"\n",
    "    Normalize a list of sample image data in the range of 0 to 1\n",
    "    : x: List of image data.  The image shape is (32, 32, 3)\n",
    "    : return: Numpy array of normalize data\n",
    "    \"\"\"\n",
    "    # TODO: Implement Function\n",
    "    return (x-np.min(x))/(np.max(x)-np.min(x))\n",
    "\n",
    "\n",
    "\"\"\"\n",
    "DON'T MODIFY ANYTHING IN THIS CELL THAT IS BELOW THIS LINE\n",
    "\"\"\"\n",
    "tests.test_normalize(normalize)"
   ]
  },
  {
   "cell_type": "markdown",
   "metadata": {
    "deletable": true,
    "editable": true
   },
   "source": [
    "### One-hot encode\n",
    "Just like the previous code cell, you'll be implementing a function for preprocessing.  This time, you'll implement the `one_hot_encode` function. The input, `x`, are a list of labels.  Implement the function to return the list of labels as One-Hot encoded Numpy array.  The possible values for labels are 0 to 9. The one-hot encoding function should return the same encoding for each value between each call to `one_hot_encode`.  Make sure to save the map of encodings outside the function.\n",
    "\n",
    "Hint: Don't reinvent the wheel."
   ]
  },
  {
   "cell_type": "code",
   "execution_count": 4,
   "metadata": {
    "collapsed": false,
    "deletable": true,
    "editable": true
   },
   "outputs": [
    {
     "name": "stdout",
     "output_type": "stream",
     "text": [
      "Tests Passed\n"
     ]
    }
   ],
   "source": [
    "from sklearn import preprocessing\n",
    "labels = np.array([0,1,2,3,4,5,6,7,8,9])\n",
    "lb = preprocessing.LabelBinarizer()\n",
    "lb.fit(labels)\n",
    "\n",
    "def one_hot_encode(x):\n",
    "    \"\"\"\n",
    "    One hot encode a list of sample labels. Return a one-hot encoded vector for each label.\n",
    "    : x: List of sample Labels\n",
    "    : return: Numpy array of one-hot encoded labels\n",
    "    \"\"\"\n",
    "    # TODO: Implement Function   \n",
    "    return lb.transform(x)\n",
    "\n",
    "\n",
    "\"\"\"\n",
    "DON'T MODIFY ANYTHING IN THIS CELL THAT IS BELOW THIS LINE\n",
    "\"\"\"\n",
    "tests.test_one_hot_encode(one_hot_encode)"
   ]
  },
  {
   "cell_type": "markdown",
   "metadata": {
    "deletable": true,
    "editable": true
   },
   "source": [
    "### Randomize Data\n",
    "As you saw from exploring the data above, the order of the samples are randomized.  It doesn't hurt to randomize it again, but you don't need to for this dataset."
   ]
  },
  {
   "cell_type": "markdown",
   "metadata": {
    "deletable": true,
    "editable": true
   },
   "source": [
    "## Preprocess all the data and save it\n",
    "Running the code cell below will preprocess all the CIFAR-10 data and save it to file. The code below also uses 10% of the training data for validation."
   ]
  },
  {
   "cell_type": "code",
   "execution_count": 5,
   "metadata": {
    "collapsed": false,
    "deletable": true,
    "editable": true
   },
   "outputs": [],
   "source": [
    "\"\"\"\n",
    "DON'T MODIFY ANYTHING IN THIS CELL\n",
    "\"\"\"\n",
    "# Preprocess Training, Validation, and Testing Data\n",
    "helper.preprocess_and_save_data(cifar10_dataset_folder_path, normalize, one_hot_encode)"
   ]
  },
  {
   "cell_type": "markdown",
   "metadata": {
    "deletable": true,
    "editable": true
   },
   "source": [
    "# Check Point\n",
    "This is your first checkpoint.  If you ever decide to come back to this notebook or have to restart the notebook, you can start from here.  The preprocessed data has been saved to disk."
   ]
  },
  {
   "cell_type": "code",
   "execution_count": 6,
   "metadata": {
    "collapsed": true,
    "deletable": true,
    "editable": true
   },
   "outputs": [],
   "source": [
    "\"\"\"\n",
    "DON'T MODIFY ANYTHING IN THIS CELL\n",
    "\"\"\"\n",
    "import pickle\n",
    "import problem_unittests as tests\n",
    "import helper\n",
    "\n",
    "# Load the Preprocessed Validation data\n",
    "valid_features, valid_labels = pickle.load(open('preprocess_validation.p', mode='rb'))"
   ]
  },
  {
   "cell_type": "markdown",
   "metadata": {
    "deletable": true,
    "editable": true
   },
   "source": [
    "## Build the network\n",
    "For the neural network, you'll build each layer into a function.  Most of the code you've seen has been outside of functions. To test your code more thoroughly, we require that you put each layer in a function.  This allows us to give you better feedback and test for simple mistakes using our unittests before you submit your project.\n",
    "\n",
    ">**Note:** If you're finding it hard to dedicate enough time for this course each week, we've provided a small shortcut to this part of the project. In the next couple of problems, you'll have the option to use classes from the [TensorFlow Layers](https://www.tensorflow.org/api_docs/python/tf/layers) or [TensorFlow Layers (contrib)](https://www.tensorflow.org/api_guides/python/contrib.layers) packages to build each layer, except the layers you build in the \"Convolutional and Max Pooling Layer\" section.  TF Layers is similar to Keras's and TFLearn's abstraction to layers, so it's easy to pickup.\n",
    "\n",
    ">However, if you would like to get the most out of this course, try to solve all the problems _without_ using anything from the TF Layers packages. You **can** still use classes from other packages that happen to have the same name as ones you find in TF Layers! For example, instead of using the TF Layers version of the `conv2d` class, [tf.layers.conv2d](https://www.tensorflow.org/api_docs/python/tf/layers/conv2d), you would want to use the TF Neural Network version of `conv2d`, [tf.nn.conv2d](https://www.tensorflow.org/api_docs/python/tf/nn/conv2d). \n",
    "\n",
    "Let's begin!\n",
    "\n",
    "### Input\n",
    "The neural network needs to read the image data, one-hot encoded labels, and dropout keep probability. Implement the following functions\n",
    "* Implement `neural_net_image_input`\n",
    " * Return a [TF Placeholder](https://www.tensorflow.org/api_docs/python/tf/placeholder)\n",
    " * Set the shape using `image_shape` with batch size set to `None`.\n",
    " * Name the TensorFlow placeholder \"x\" using the TensorFlow `name` parameter in the [TF Placeholder](https://www.tensorflow.org/api_docs/python/tf/placeholder).\n",
    "* Implement `neural_net_label_input`\n",
    " * Return a [TF Placeholder](https://www.tensorflow.org/api_docs/python/tf/placeholder)\n",
    " * Set the shape using `n_classes` with batch size set to `None`.\n",
    " * Name the TensorFlow placeholder \"y\" using the TensorFlow `name` parameter in the [TF Placeholder](https://www.tensorflow.org/api_docs/python/tf/placeholder).\n",
    "* Implement `neural_net_keep_prob_input`\n",
    " * Return a [TF Placeholder](https://www.tensorflow.org/api_docs/python/tf/placeholder) for dropout keep probability.\n",
    " * Name the TensorFlow placeholder \"keep_prob\" using the TensorFlow `name` parameter in the [TF Placeholder](https://www.tensorflow.org/api_docs/python/tf/placeholder).\n",
    "\n",
    "These names will be used at the end of the project to load your saved model.\n",
    "\n",
    "Note: `None` for shapes in TensorFlow allow for a dynamic size."
   ]
  },
  {
   "cell_type": "code",
   "execution_count": 7,
   "metadata": {
    "collapsed": false,
    "deletable": true,
    "editable": true
   },
   "outputs": [
    {
     "name": "stdout",
     "output_type": "stream",
     "text": [
      "Image Input Tests Passed.\n",
      "Label Input Tests Passed.\n",
      "Keep Prob Tests Passed.\n"
     ]
    }
   ],
   "source": [
    "import tensorflow as tf\n",
    "\n",
    "def neural_net_image_input(image_shape):\n",
    "    \"\"\"\n",
    "    Return a Tensor for a bach of image input\n",
    "    : image_shape: Shape of the images\n",
    "    : return: Tensor for image input.\n",
    "    \"\"\"\n",
    "    # TODO: Implement Function\n",
    "    return tf.placeholder(tf.float32, shape=[None, *image_shape], name='x')\n",
    "\n",
    "\n",
    "def neural_net_label_input(n_classes):\n",
    "    \"\"\"\n",
    "    Return a Tensor for a batch of label input\n",
    "    : n_classes: Number of classes\n",
    "    : return: Tensor for label input.\n",
    "    \"\"\"\n",
    "    # TODO: Implement Function\n",
    "    return tf.placeholder(tf.float32, shape=[None, n_classes], name='y')\n",
    "\n",
    "\n",
    "def neural_net_keep_prob_input():\n",
    "    \"\"\"\n",
    "    Return a Tensor for keep probability\n",
    "    : return: Tensor for keep probability.\n",
    "    \"\"\"\n",
    "    # TODO: Implement Function\n",
    "    return tf.placeholder(tf.float32, name='keep_prob')\n",
    "\n",
    "\n",
    "\"\"\"\n",
    "DON'T MODIFY ANYTHING IN THIS CELL THAT IS BELOW THIS LINE\n",
    "\"\"\"\n",
    "tf.reset_default_graph()\n",
    "tests.test_nn_image_inputs(neural_net_image_input)\n",
    "tests.test_nn_label_inputs(neural_net_label_input)\n",
    "tests.test_nn_keep_prob_inputs(neural_net_keep_prob_input)"
   ]
  },
  {
   "cell_type": "markdown",
   "metadata": {
    "deletable": true,
    "editable": true
   },
   "source": [
    "### Convolution and Max Pooling Layer\n",
    "Convolution layers have a lot of success with images. For this code cell, you should implement the function `conv2d_maxpool` to apply convolution then max pooling:\n",
    "* Create the weight and bias using `conv_ksize`, `conv_num_outputs` and the shape of `x_tensor`.\n",
    "* Apply a convolution to `x_tensor` using weight and `conv_strides`.\n",
    " * We recommend you use same padding, but you're welcome to use any padding.\n",
    "* Add bias\n",
    "* Add a nonlinear activation to the convolution.\n",
    "* Apply Max Pooling using `pool_ksize` and `pool_strides`.\n",
    " * We recommend you use same padding, but you're welcome to use any padding.\n",
    "\n",
    "**Note:** You **can't** use [TensorFlow Layers](https://www.tensorflow.org/api_docs/python/tf/layers) or [TensorFlow Layers (contrib)](https://www.tensorflow.org/api_guides/python/contrib.layers) for **this** layer, but you can still use TensorFlow's [Neural Network](https://www.tensorflow.org/api_docs/python/tf/nn) package. You may still use the shortcut option for all the **other** layers."
   ]
  },
  {
   "cell_type": "code",
   "execution_count": 8,
   "metadata": {
    "collapsed": false,
    "deletable": true,
    "editable": true
   },
   "outputs": [
    {
     "name": "stdout",
     "output_type": "stream",
     "text": [
      "Tests Passed\n"
     ]
    }
   ],
   "source": [
    "def conv2d_maxpool(x_tensor, conv_num_outputs, conv_ksize, conv_strides, pool_ksize, pool_strides):\n",
    "    \"\"\"\n",
    "    Apply convolution then max pooling to x_tensor\n",
    "    :param x_tensor: TensorFlow Tensor\n",
    "    :param conv_num_outputs: Number of outputs for the convolutional layer\n",
    "    :param conv_ksize: kernal size 2-D Tuple for the convolutional layer\n",
    "    :param conv_strides: Stride 2-D Tuple for convolution\n",
    "    :param pool_ksize: kernal size 2-D Tuple for pool\n",
    "    :param pool_strides: Stride 2-D Tuple for pool\n",
    "    : return: A tensor that represents convolution and max pooling of x_tensor\n",
    "    \"\"\"\n",
    "    # TODO: Implement Function\n",
    "    weight = tf.Variable(tf.truncated_normal([*conv_ksize, x_tensor.get_shape().as_list()[3], conv_num_outputs], stddev=0.1))\n",
    "    bias = tf.Variable(tf.zeros(conv_num_outputs))\n",
    "    conv_layer = tf.nn.conv2d(x_tensor, weight, strides=[1, *conv_strides, 1], padding='SAME')\n",
    "    conv_layer = tf.nn.bias_add(conv_layer, bias)\n",
    "    conv_layer = tf.nn.relu(conv_layer)\n",
    "    conv_layer = tf.nn.max_pool(conv_layer, ksize=[1, *pool_ksize, 1], strides=[1, *pool_strides, 1], padding='SAME')\n",
    "    \n",
    "    return conv_layer \n",
    "\n",
    "\n",
    "\"\"\"\n",
    "DON'T MODIFY ANYTHING IN THIS CELL THAT IS BELOW THIS LINE\n",
    "\"\"\"\n",
    "tests.test_con_pool(conv2d_maxpool)"
   ]
  },
  {
   "cell_type": "markdown",
   "metadata": {
    "deletable": true,
    "editable": true
   },
   "source": [
    "### Flatten Layer\n",
    "Implement the `flatten` function to change the dimension of `x_tensor` from a 4-D tensor to a 2-D tensor.  The output should be the shape (*Batch Size*, *Flattened Image Size*). Shortcut option: you can use classes from the [TensorFlow Layers](https://www.tensorflow.org/api_docs/python/tf/layers) or [TensorFlow Layers (contrib)](https://www.tensorflow.org/api_guides/python/contrib.layers) packages for this layer. For more of a challenge, only use other TensorFlow packages."
   ]
  },
  {
   "cell_type": "code",
   "execution_count": 9,
   "metadata": {
    "collapsed": false,
    "deletable": true,
    "editable": true
   },
   "outputs": [
    {
     "name": "stdout",
     "output_type": "stream",
     "text": [
      "Tests Passed\n"
     ]
    }
   ],
   "source": [
    "def flatten(x_tensor):\n",
    "    \"\"\"\n",
    "    Flatten x_tensor to (Batch Size, Flattened Image Size)\n",
    "    : x_tensor: A tensor of size (Batch Size, ...), where ... are the image dimensions.\n",
    "    : return: A tensor of size (Batch Size, Flattened Image Size).\n",
    "    \"\"\"\n",
    "    # TODO: Implement Function\n",
    "    n_input = x_tensor.get_shape().as_list()[1]*x_tensor.get_shape().as_list()[2]*x_tensor.get_shape().as_list()[3]\n",
    "    return tf.reshape(x_tensor, [-1, n_input])\n",
    "\n",
    "\n",
    "\"\"\"\n",
    "DON'T MODIFY ANYTHING IN THIS CELL THAT IS BELOW THIS LINE\n",
    "\"\"\"\n",
    "tests.test_flatten(flatten)"
   ]
  },
  {
   "cell_type": "markdown",
   "metadata": {
    "deletable": true,
    "editable": true
   },
   "source": [
    "### Fully-Connected Layer\n",
    "Implement the `fully_conn` function to apply a fully connected layer to `x_tensor` with the shape (*Batch Size*, *num_outputs*). Shortcut option: you can use classes from the [TensorFlow Layers](https://www.tensorflow.org/api_docs/python/tf/layers) or [TensorFlow Layers (contrib)](https://www.tensorflow.org/api_guides/python/contrib.layers) packages for this layer. For more of a challenge, only use other TensorFlow packages."
   ]
  },
  {
   "cell_type": "code",
   "execution_count": 10,
   "metadata": {
    "collapsed": false,
    "deletable": true,
    "editable": true
   },
   "outputs": [
    {
     "name": "stdout",
     "output_type": "stream",
     "text": [
      "Tests Passed\n"
     ]
    }
   ],
   "source": [
    "def fully_conn(x_tensor, num_outputs):\n",
    "    \"\"\"\n",
    "    Apply a fully connected layer to x_tensor using weight and bias\n",
    "    : x_tensor: A 2-D tensor where the first dimension is batch size.\n",
    "    : num_outputs: The number of output that the new tensor should be.\n",
    "    : return: A 2-D tensor where the second dimension is num_outputs.\n",
    "    \"\"\"\n",
    "    # TODO: Implement Function\n",
    "    weight = tf.Variable(tf.truncated_normal([x_tensor.get_shape().as_list()[1], num_outputs], stddev=0.1))\n",
    "    bias = tf.Variable(tf.zeros(num_outputs))\n",
    "    fc = tf.add(tf.matmul(x_tensor, weight), bias)\n",
    "    fc = tf.nn.relu(fc)\n",
    "    return fc\n",
    "\n",
    "\n",
    "\"\"\"\n",
    "DON'T MODIFY ANYTHING IN THIS CELL THAT IS BELOW THIS LINE\n",
    "\"\"\"\n",
    "tests.test_fully_conn(fully_conn)"
   ]
  },
  {
   "cell_type": "markdown",
   "metadata": {
    "deletable": true,
    "editable": true
   },
   "source": [
    "### Output Layer\n",
    "Implement the `output` function to apply a fully connected layer to `x_tensor` with the shape (*Batch Size*, *num_outputs*). Shortcut option: you can use classes from the [TensorFlow Layers](https://www.tensorflow.org/api_docs/python/tf/layers) or [TensorFlow Layers (contrib)](https://www.tensorflow.org/api_guides/python/contrib.layers) packages for this layer. For more of a challenge, only use other TensorFlow packages.\n",
    "\n",
    "**Note:** Activation, softmax, or cross entropy should **not** be applied to this."
   ]
  },
  {
   "cell_type": "code",
   "execution_count": 11,
   "metadata": {
    "collapsed": false,
    "deletable": true,
    "editable": true
   },
   "outputs": [
    {
     "name": "stdout",
     "output_type": "stream",
     "text": [
      "Tests Passed\n"
     ]
    }
   ],
   "source": [
    "def output(x_tensor, num_outputs):\n",
    "    \"\"\"\n",
    "    Apply a output layer to x_tensor using weight and bias\n",
    "    : x_tensor: A 2-D tensor where the first dimension is batch size.\n",
    "    : num_outputs: The number of output that the new tensor should be.\n",
    "    : return: A 2-D tensor where the second dimension is num_outputs.\n",
    "    \"\"\"\n",
    "    # TODO: Implement Function\n",
    "    weight = tf.Variable(tf.truncated_normal([x_tensor.get_shape().as_list()[1], num_outputs], stddev=0.1))\n",
    "    bias = tf.Variable(tf.zeros(num_outputs))\n",
    "    fc_out = tf.add(tf.matmul(x_tensor, weight), bias)\n",
    "    return fc_out\n",
    "\n",
    "\n",
    "\"\"\"\n",
    "DON'T MODIFY ANYTHING IN THIS CELL THAT IS BELOW THIS LINE\n",
    "\"\"\"\n",
    "tests.test_output(output)"
   ]
  },
  {
   "cell_type": "markdown",
   "metadata": {
    "deletable": true,
    "editable": true
   },
   "source": [
    "### Create Convolutional Model\n",
    "Implement the function `conv_net` to create a convolutional neural network model. The function takes in a batch of images, `x`, and outputs logits.  Use the layers you created above to create this model:\n",
    "\n",
    "* Apply 1, 2, or 3 Convolution and Max Pool layers\n",
    "* Apply a Flatten Layer\n",
    "* Apply 1, 2, or 3 Fully Connected Layers\n",
    "* Apply an Output Layer\n",
    "* Return the output\n",
    "* Apply [TensorFlow's Dropout](https://www.tensorflow.org/api_docs/python/tf/nn/dropout) to one or more layers in the model using `keep_prob`. "
   ]
  },
  {
   "cell_type": "code",
   "execution_count": 42,
   "metadata": {
    "collapsed": false,
    "deletable": true,
    "editable": true
   },
   "outputs": [
    {
     "name": "stdout",
     "output_type": "stream",
     "text": [
      "Neural Network Built!\n"
     ]
    }
   ],
   "source": [
    "def conv_net(x, keep_prob):\n",
    "    \"\"\"\n",
    "    Create a convolutional neural network model\n",
    "    : x: Placeholder tensor that holds image data.\n",
    "    : keep_prob: Placeholder tensor that hold dropout keep probability.\n",
    "    : return: Tensor that represents logits\n",
    "    \"\"\"\n",
    "    # TODO: Apply 1, 2, or 3 Convolution and Max Pool layers\n",
    "    #    Play around with different number of outputs, kernel size and stride\n",
    "    # Function Definition from Above:\n",
    "    #    conv2d_maxpool(x_tensor, conv_num_outputs, conv_ksize, conv_strides, pool_ksize, pool_strides)\n",
    "    conv1 = conv2d_maxpool(x, 256, (4,4), (2,2), (4,4), (2,2))\n",
    "    conv2 = conv2d_maxpool(conv1, 128, (4,4), (2,2), (4,4), (2,2))\n",
    "    #conv3 = conv2d_maxpool(conv2, 512, (2,2), (2,2), (2,2), (2,2))\n",
    "    \n",
    "\n",
    "    # TODO: Apply a Flatten Layer\n",
    "    # Function Definition from Above:\n",
    "    #   flatten(x_tensor)\n",
    "    fl = flatten(conv2)\n",
    "\n",
    "    # TODO: Apply 1, 2, or 3 Fully Connected Layers\n",
    "    #    Play around with different number of outputs\n",
    "    # Function Definition from Above:\n",
    "    #   fully_conn(x_tensor, num_outputs)\n",
    "    fc1 = fully_conn(fl, 128)\n",
    "    fc2 = fully_conn(fc1, 64)\n",
    "    #fc3 = fully_conn(fc2, 64)\n",
    "    \n",
    "    # TODO: Apply an Output Layer\n",
    "    #    Set this to the number of classes\n",
    "    # Function Definition from Above:\n",
    "    #   output(x_tensor, num_outputs)\n",
    "    out = output(fc2, 10)\n",
    "    \n",
    "    # TODO: return output\n",
    "    return out\n",
    "\n",
    "\n",
    "\"\"\"\n",
    "DON'T MODIFY ANYTHING IN THIS CELL THAT IS BELOW THIS LINE\n",
    "\"\"\"\n",
    "\n",
    "##############################\n",
    "## Build the Neural Network ##\n",
    "##############################\n",
    "\n",
    "# Remove previous weights, bias, inputs, etc..\n",
    "tf.reset_default_graph()\n",
    "\n",
    "# Inputs\n",
    "x = neural_net_image_input((32, 32, 3))\n",
    "y = neural_net_label_input(10)\n",
    "keep_prob = neural_net_keep_prob_input()\n",
    "\n",
    "# Model\n",
    "logits = conv_net(x, keep_prob)\n",
    "\n",
    "# Name logits Tensor, so that is can be loaded from disk after training\n",
    "logits = tf.identity(logits, name='logits')\n",
    "\n",
    "# Loss and Optimizer\n",
    "cost = tf.reduce_mean(tf.nn.softmax_cross_entropy_with_logits(logits=logits, labels=y))\n",
    "optimizer = tf.train.AdamOptimizer().minimize(cost)\n",
    "\n",
    "# Accuracy\n",
    "correct_pred = tf.equal(tf.argmax(logits, 1), tf.argmax(y, 1))\n",
    "accuracy = tf.reduce_mean(tf.cast(correct_pred, tf.float32), name='accuracy')\n",
    "\n",
    "tests.test_conv_net(conv_net)"
   ]
  },
  {
   "cell_type": "markdown",
   "metadata": {
    "deletable": true,
    "editable": true
   },
   "source": [
    "## Train the Neural Network\n",
    "### Single Optimization\n",
    "Implement the function `train_neural_network` to do a single optimization.  The optimization should use `optimizer` to optimize in `session` with a `feed_dict` of the following:\n",
    "* `x` for image input\n",
    "* `y` for labels\n",
    "* `keep_prob` for keep probability for dropout\n",
    "\n",
    "This function will be called for each batch, so `tf.global_variables_initializer()` has already been called.\n",
    "\n",
    "Note: Nothing needs to be returned. This function is only optimizing the neural network."
   ]
  },
  {
   "cell_type": "code",
   "execution_count": 43,
   "metadata": {
    "collapsed": false,
    "deletable": true,
    "editable": true
   },
   "outputs": [
    {
     "name": "stdout",
     "output_type": "stream",
     "text": [
      "Tests Passed\n"
     ]
    }
   ],
   "source": [
    "def train_neural_network(session, optimizer, keep_probability, feature_batch, label_batch):\n",
    "    \"\"\"\n",
    "    Optimize the session on a batch of images and labels\n",
    "    : session: Current TensorFlow session\n",
    "    : optimizer: TensorFlow optimizer function\n",
    "    : keep_probability: keep probability\n",
    "    : feature_batch: Batch of Numpy image data\n",
    "    : label_batch: Batch of Numpy label data\n",
    "    \"\"\"\n",
    "    # TODO: Implement Function\n",
    "    session.run(optimizer, feed_dict={x: feature_batch, y: label_batch, keep_prob: keep_probability})\n",
    "    pass\n",
    "\n",
    "\n",
    "\"\"\"\n",
    "DON'T MODIFY ANYTHING IN THIS CELL THAT IS BELOW THIS LINE\n",
    "\"\"\"\n",
    "tests.test_train_nn(train_neural_network)"
   ]
  },
  {
   "cell_type": "markdown",
   "metadata": {
    "deletable": true,
    "editable": true
   },
   "source": [
    "### Show Stats\n",
    "Implement the function `print_stats` to print loss and validation accuracy.  Use the global variables `valid_features` and `valid_labels` to calculate validation accuracy.  Use a keep probability of `1.0` to calculate the loss and validation accuracy."
   ]
  },
  {
   "cell_type": "code",
   "execution_count": 44,
   "metadata": {
    "collapsed": false,
    "deletable": true,
    "editable": true
   },
   "outputs": [],
   "source": [
    "def print_stats(session, feature_batch, label_batch, cost, accuracy):\n",
    "    \"\"\"\n",
    "    Print information about loss and validation accuracy\n",
    "    : session: Current TensorFlow session\n",
    "    : feature_batch: Batch of Numpy image data\n",
    "    : label_batch: Batch of Numpy label data\n",
    "    : cost: TensorFlow cost function\n",
    "    : accuracy: TensorFlow accuracy function\n",
    "    \"\"\"\n",
    "    # TODO: Implement Function\n",
    "    loss = session.run(cost, feed_dict={x: feature_batch, y: label_batch, keep_prob: 1.0})\n",
    "    valid_acc = session.run(accuracy, feed_dict={x: valid_features, y: valid_labels, keep_prob: 1.0})\n",
    "    print('Loss: {:>10.4f} Validation Accuracy: {:.6f}'.format(loss, valid_acc))\n",
    "    pass"
   ]
  },
  {
   "cell_type": "markdown",
   "metadata": {
    "deletable": true,
    "editable": true
   },
   "source": [
    "### Hyperparameters\n",
    "Tune the following parameters:\n",
    "* Set `epochs` to the number of iterations until the network stops learning or start overfitting\n",
    "* Set `batch_size` to the highest number that your machine has memory for.  Most people set them to common sizes of memory:\n",
    " * 64\n",
    " * 128\n",
    " * 256\n",
    " * ...\n",
    "* Set `keep_probability` to the probability of keeping a node using dropout"
   ]
  },
  {
   "cell_type": "code",
   "execution_count": 47,
   "metadata": {
    "collapsed": true,
    "deletable": true,
    "editable": true
   },
   "outputs": [],
   "source": [
    "# TODO: Tune Parameters\n",
    "epochs = 100\n",
    "batch_size = 256\n",
    "keep_probability = 0.5"
   ]
  },
  {
   "cell_type": "markdown",
   "metadata": {
    "deletable": true,
    "editable": true
   },
   "source": [
    "### Train on a Single CIFAR-10 Batch\n",
    "Instead of training the neural network on all the CIFAR-10 batches of data, let's use a single batch. This should save time while you iterate on the model to get a better accuracy.  Once the final validation accuracy is 50% or greater, run the model on all the data in the next section."
   ]
  },
  {
   "cell_type": "code",
   "execution_count": 48,
   "metadata": {
    "collapsed": false,
    "deletable": true,
    "editable": true
   },
   "outputs": [
    {
     "name": "stdout",
     "output_type": "stream",
     "text": [
      "Checking the Training on a Single Batch...\n",
      "Epoch  1, CIFAR-10 Batch 1:  Loss:     2.0242 Validation Accuracy: 0.268400\n",
      "Epoch  2, CIFAR-10 Batch 1:  Loss:     1.8862 Validation Accuracy: 0.364800\n",
      "Epoch  3, CIFAR-10 Batch 1:  Loss:     1.6174 Validation Accuracy: 0.405800\n",
      "Epoch  4, CIFAR-10 Batch 1:  Loss:     1.3754 Validation Accuracy: 0.455600\n",
      "Epoch  5, CIFAR-10 Batch 1:  Loss:     1.1708 Validation Accuracy: 0.465800\n",
      "Epoch  6, CIFAR-10 Batch 1:  Loss:     0.9943 Validation Accuracy: 0.480000\n",
      "Epoch  7, CIFAR-10 Batch 1:  Loss:     0.8228 Validation Accuracy: 0.500200\n",
      "Epoch  8, CIFAR-10 Batch 1:  Loss:     0.6830 Validation Accuracy: 0.524200\n",
      "Epoch  9, CIFAR-10 Batch 1:  Loss:     0.6034 Validation Accuracy: 0.526800\n",
      "Epoch 10, CIFAR-10 Batch 1:  Loss:     0.5377 Validation Accuracy: 0.514800\n",
      "Epoch 11, CIFAR-10 Batch 1:  Loss:     0.4578 Validation Accuracy: 0.539200\n",
      "Epoch 12, CIFAR-10 Batch 1:  Loss:     0.3678 Validation Accuracy: 0.550800\n",
      "Epoch 13, CIFAR-10 Batch 1:  Loss:     0.3382 Validation Accuracy: 0.541000\n",
      "Epoch 14, CIFAR-10 Batch 1:  Loss:     0.3272 Validation Accuracy: 0.534400\n",
      "Epoch 15, CIFAR-10 Batch 1:  Loss:     0.2835 Validation Accuracy: 0.558200\n",
      "Epoch 16, CIFAR-10 Batch 1:  Loss:     0.2559 Validation Accuracy: 0.542800\n",
      "Epoch 17, CIFAR-10 Batch 1:  Loss:     0.2255 Validation Accuracy: 0.551600\n",
      "Epoch 18, CIFAR-10 Batch 1:  Loss:     0.1781 Validation Accuracy: 0.581400\n",
      "Epoch 19, CIFAR-10 Batch 1:  Loss:     0.1476 Validation Accuracy: 0.586600\n",
      "Epoch 20, CIFAR-10 Batch 1:  Loss:     0.1215 Validation Accuracy: 0.588800\n",
      "Epoch 21, CIFAR-10 Batch 1:  Loss:     0.1047 Validation Accuracy: 0.583000\n",
      "Epoch 22, CIFAR-10 Batch 1:  Loss:     0.1732 Validation Accuracy: 0.513600\n",
      "Epoch 23, CIFAR-10 Batch 1:  Loss:     0.0794 Validation Accuracy: 0.583200\n",
      "Epoch 24, CIFAR-10 Batch 1:  Loss:     0.0844 Validation Accuracy: 0.585400\n",
      "Epoch 25, CIFAR-10 Batch 1:  Loss:     0.0622 Validation Accuracy: 0.589600\n",
      "Epoch 26, CIFAR-10 Batch 1:  Loss:     0.0419 Validation Accuracy: 0.603800\n",
      "Epoch 27, CIFAR-10 Batch 1:  Loss:     0.0905 Validation Accuracy: 0.582200\n",
      "Epoch 28, CIFAR-10 Batch 1:  Loss:     0.0481 Validation Accuracy: 0.590800\n",
      "Epoch 29, CIFAR-10 Batch 1:  Loss:     0.0856 Validation Accuracy: 0.500800\n",
      "Epoch 30, CIFAR-10 Batch 1:  Loss:     0.0606 Validation Accuracy: 0.553400\n",
      "Epoch 31, CIFAR-10 Batch 1:  Loss:     0.0389 Validation Accuracy: 0.592600\n",
      "Epoch 32, CIFAR-10 Batch 1:  Loss:     0.0750 Validation Accuracy: 0.531200\n",
      "Epoch 33, CIFAR-10 Batch 1:  Loss:     0.0399 Validation Accuracy: 0.607400\n",
      "Epoch 34, CIFAR-10 Batch 1:  Loss:     0.0437 Validation Accuracy: 0.578000\n",
      "Epoch 35, CIFAR-10 Batch 1:  Loss:     0.0613 Validation Accuracy: 0.526600\n",
      "Epoch 36, CIFAR-10 Batch 1:  Loss:     0.0406 Validation Accuracy: 0.605000\n",
      "Epoch 37, CIFAR-10 Batch 1:  Loss:     0.0641 Validation Accuracy: 0.563400\n",
      "Epoch 38, CIFAR-10 Batch 1:  Loss:     0.0212 Validation Accuracy: 0.597200\n",
      "Epoch 39, CIFAR-10 Batch 1:  Loss:     0.0552 Validation Accuracy: 0.545400\n",
      "Epoch 40, CIFAR-10 Batch 1:  Loss:     0.0194 Validation Accuracy: 0.614200\n",
      "Epoch 41, CIFAR-10 Batch 1:  Loss:     0.0102 Validation Accuracy: 0.599800\n",
      "Epoch 42, CIFAR-10 Batch 1:  Loss:     0.0525 Validation Accuracy: 0.549200\n",
      "Epoch 43, CIFAR-10 Batch 1:  Loss:     0.0298 Validation Accuracy: 0.577800\n",
      "Epoch 44, CIFAR-10 Batch 1:  Loss:     0.0798 Validation Accuracy: 0.558800\n",
      "Epoch 45, CIFAR-10 Batch 1:  Loss:     0.0371 Validation Accuracy: 0.575400\n",
      "Epoch 46, CIFAR-10 Batch 1:  Loss:     0.0497 Validation Accuracy: 0.554000\n",
      "Epoch 47, CIFAR-10 Batch 1:  Loss:     0.0292 Validation Accuracy: 0.555400\n",
      "Epoch 48, CIFAR-10 Batch 1:  Loss:     0.0136 Validation Accuracy: 0.580800\n",
      "Epoch 49, CIFAR-10 Batch 1:  Loss:     0.0462 Validation Accuracy: 0.519600\n",
      "Epoch 50, CIFAR-10 Batch 1:  Loss:     0.0148 Validation Accuracy: 0.568800\n",
      "Epoch 51, CIFAR-10 Batch 1:  Loss:     0.0145 Validation Accuracy: 0.578800\n",
      "Epoch 52, CIFAR-10 Batch 1:  Loss:     0.0772 Validation Accuracy: 0.542800\n",
      "Epoch 53, CIFAR-10 Batch 1:  Loss:     0.0071 Validation Accuracy: 0.597000\n",
      "Epoch 54, CIFAR-10 Batch 1:  Loss:     0.0108 Validation Accuracy: 0.588400\n",
      "Epoch 55, CIFAR-10 Batch 1:  Loss:     0.0078 Validation Accuracy: 0.594200\n",
      "Epoch 56, CIFAR-10 Batch 1:  Loss:     0.0104 Validation Accuracy: 0.594800\n",
      "Epoch 57, CIFAR-10 Batch 1:  Loss:     0.0032 Validation Accuracy: 0.597000\n",
      "Epoch 58, CIFAR-10 Batch 1:  Loss:     0.0017 Validation Accuracy: 0.605400\n",
      "Epoch 59, CIFAR-10 Batch 1:  Loss:     0.0028 Validation Accuracy: 0.605000\n",
      "Epoch 60, CIFAR-10 Batch 1:  Loss:     0.0021 Validation Accuracy: 0.607400\n",
      "Epoch 61, CIFAR-10 Batch 1:  Loss:     0.0038 Validation Accuracy: 0.603800\n",
      "Epoch 62, CIFAR-10 Batch 1:  Loss:     0.0015 Validation Accuracy: 0.608600\n",
      "Epoch 63, CIFAR-10 Batch 1:  Loss:     0.0017 Validation Accuracy: 0.602800\n",
      "Epoch 64, CIFAR-10 Batch 1:  Loss:     0.0019 Validation Accuracy: 0.591400\n",
      "Epoch 65, CIFAR-10 Batch 1:  Loss:     0.0040 Validation Accuracy: 0.600800\n",
      "Epoch 66, CIFAR-10 Batch 1:  Loss:     0.0022 Validation Accuracy: 0.573000\n",
      "Epoch 67, CIFAR-10 Batch 1:  Loss:     0.0014 Validation Accuracy: 0.582800\n",
      "Epoch 68, CIFAR-10 Batch 1:  Loss:     0.0020 Validation Accuracy: 0.590800\n",
      "Epoch 69, CIFAR-10 Batch 1:  Loss:     0.0013 Validation Accuracy: 0.593800\n",
      "Epoch 70, CIFAR-10 Batch 1:  Loss:     0.0016 Validation Accuracy: 0.597200\n",
      "Epoch 71, CIFAR-10 Batch 1:  Loss:     0.0013 Validation Accuracy: 0.606600\n",
      "Epoch 72, CIFAR-10 Batch 1:  Loss:     0.0009 Validation Accuracy: 0.607000\n",
      "Epoch 73, CIFAR-10 Batch 1:  Loss:     0.0003 Validation Accuracy: 0.617200\n",
      "Epoch 74, CIFAR-10 Batch 1:  Loss:     0.0007 Validation Accuracy: 0.598400\n",
      "Epoch 75, CIFAR-10 Batch 1:  Loss:     0.0016 Validation Accuracy: 0.606200\n",
      "Epoch 76, CIFAR-10 Batch 1:  Loss:     0.0008 Validation Accuracy: 0.605000\n",
      "Epoch 77, CIFAR-10 Batch 1:  Loss:     0.0012 Validation Accuracy: 0.605000\n",
      "Epoch 78, CIFAR-10 Batch 1:  Loss:     0.0017 Validation Accuracy: 0.592000\n",
      "Epoch 79, CIFAR-10 Batch 1:  Loss:     0.0004 Validation Accuracy: 0.620600\n",
      "Epoch 80, CIFAR-10 Batch 1:  Loss:     0.0002 Validation Accuracy: 0.614600\n",
      "Epoch 81, CIFAR-10 Batch 1:  Loss:     0.0007 Validation Accuracy: 0.613000\n",
      "Epoch 82, CIFAR-10 Batch 1:  Loss:     0.0001 Validation Accuracy: 0.616000\n",
      "Epoch 83, CIFAR-10 Batch 1:  Loss:     0.0002 Validation Accuracy: 0.624200\n",
      "Epoch 84, CIFAR-10 Batch 1:  Loss:     0.0001 Validation Accuracy: 0.627800\n",
      "Epoch 85, CIFAR-10 Batch 1:  Loss:     0.0001 Validation Accuracy: 0.626400\n",
      "Epoch 86, CIFAR-10 Batch 1:  Loss:     0.0001 Validation Accuracy: 0.625800\n",
      "Epoch 87, CIFAR-10 Batch 1:  Loss:     0.0001 Validation Accuracy: 0.625000\n",
      "Epoch 88, CIFAR-10 Batch 1:  Loss:     0.0001 Validation Accuracy: 0.627400\n",
      "Epoch 89, CIFAR-10 Batch 1:  Loss:     0.0001 Validation Accuracy: 0.627200\n",
      "Epoch 90, CIFAR-10 Batch 1:  Loss:     0.0001 Validation Accuracy: 0.627600\n",
      "Epoch 91, CIFAR-10 Batch 1:  Loss:     0.0001 Validation Accuracy: 0.627800\n",
      "Epoch 92, CIFAR-10 Batch 1:  Loss:     0.0001 Validation Accuracy: 0.627800\n",
      "Epoch 93, CIFAR-10 Batch 1:  Loss:     0.0001 Validation Accuracy: 0.628600\n",
      "Epoch 94, CIFAR-10 Batch 1:  Loss:     0.0001 Validation Accuracy: 0.628800\n",
      "Epoch 95, CIFAR-10 Batch 1:  Loss:     0.0001 Validation Accuracy: 0.629200\n",
      "Epoch 96, CIFAR-10 Batch 1:  Loss:     0.0001 Validation Accuracy: 0.629200\n",
      "Epoch 97, CIFAR-10 Batch 1:  Loss:     0.0001 Validation Accuracy: 0.629000\n",
      "Epoch 98, CIFAR-10 Batch 1:  Loss:     0.0001 Validation Accuracy: 0.629200\n",
      "Epoch 99, CIFAR-10 Batch 1:  Loss:     0.0001 Validation Accuracy: 0.629800\n",
      "Epoch 100, CIFAR-10 Batch 1:  Loss:     0.0001 Validation Accuracy: 0.629200\n"
     ]
    }
   ],
   "source": [
    "\"\"\"\n",
    "DON'T MODIFY ANYTHING IN THIS CELL\n",
    "\"\"\"\n",
    "print('Checking the Training on a Single Batch...')\n",
    "with tf.Session() as sess:\n",
    "    # Initializing the variables\n",
    "    sess.run(tf.global_variables_initializer())\n",
    "    \n",
    "    # Training cycle\n",
    "    for epoch in range(epochs):\n",
    "        batch_i = 1\n",
    "        for batch_features, batch_labels in helper.load_preprocess_training_batch(batch_i, batch_size):\n",
    "            train_neural_network(sess, optimizer, keep_probability, batch_features, batch_labels)\n",
    "        print('Epoch {:>2}, CIFAR-10 Batch {}:  '.format(epoch + 1, batch_i), end='')\n",
    "        print_stats(sess, batch_features, batch_labels, cost, accuracy)"
   ]
  },
  {
   "cell_type": "markdown",
   "metadata": {
    "deletable": true,
    "editable": true
   },
   "source": [
    "### Fully Train the Model\n",
    "Now that you got a good accuracy with a single CIFAR-10 batch, try it with all five batches."
   ]
  },
  {
   "cell_type": "code",
   "execution_count": 49,
   "metadata": {
    "collapsed": false,
    "deletable": true,
    "editable": true,
    "scrolled": false
   },
   "outputs": [
    {
     "name": "stdout",
     "output_type": "stream",
     "text": [
      "Training...\n",
      "Epoch  1, CIFAR-10 Batch 1:  Loss:     2.1049 Validation Accuracy: 0.281800\n",
      "Epoch  1, CIFAR-10 Batch 2:  Loss:     1.7778 Validation Accuracy: 0.333200\n",
      "Epoch  1, CIFAR-10 Batch 3:  Loss:     1.4692 Validation Accuracy: 0.412800\n",
      "Epoch  1, CIFAR-10 Batch 4:  Loss:     1.4406 Validation Accuracy: 0.439400\n",
      "Epoch  1, CIFAR-10 Batch 5:  Loss:     1.5081 Validation Accuracy: 0.446000\n",
      "Epoch  2, CIFAR-10 Batch 1:  Loss:     1.4336 Validation Accuracy: 0.467200\n",
      "Epoch  2, CIFAR-10 Batch 2:  Loss:     1.3455 Validation Accuracy: 0.521200\n",
      "Epoch  2, CIFAR-10 Batch 3:  Loss:     1.0001 Validation Accuracy: 0.498000\n",
      "Epoch  2, CIFAR-10 Batch 4:  Loss:     1.2857 Validation Accuracy: 0.533600\n",
      "Epoch  2, CIFAR-10 Batch 5:  Loss:     1.3018 Validation Accuracy: 0.493400\n",
      "Epoch  3, CIFAR-10 Batch 1:  Loss:     1.1591 Validation Accuracy: 0.526600\n",
      "Epoch  3, CIFAR-10 Batch 2:  Loss:     1.1244 Validation Accuracy: 0.545200\n",
      "Epoch  3, CIFAR-10 Batch 3:  Loss:     0.7425 Validation Accuracy: 0.552200\n",
      "Epoch  3, CIFAR-10 Batch 4:  Loss:     1.0604 Validation Accuracy: 0.569600\n",
      "Epoch  3, CIFAR-10 Batch 5:  Loss:     1.0296 Validation Accuracy: 0.563800\n",
      "Epoch  4, CIFAR-10 Batch 1:  Loss:     1.0041 Validation Accuracy: 0.557400\n",
      "Epoch  4, CIFAR-10 Batch 2:  Loss:     0.9639 Validation Accuracy: 0.560800\n",
      "Epoch  4, CIFAR-10 Batch 3:  Loss:     0.6163 Validation Accuracy: 0.564800\n",
      "Epoch  4, CIFAR-10 Batch 4:  Loss:     0.8354 Validation Accuracy: 0.614600\n",
      "Epoch  4, CIFAR-10 Batch 5:  Loss:     0.8470 Validation Accuracy: 0.612000\n",
      "Epoch  5, CIFAR-10 Batch 1:  Loss:     0.8351 Validation Accuracy: 0.613400\n",
      "Epoch  5, CIFAR-10 Batch 2:  Loss:     0.8077 Validation Accuracy: 0.573800\n",
      "Epoch  5, CIFAR-10 Batch 3:  Loss:     0.4834 Validation Accuracy: 0.603200\n",
      "Epoch  5, CIFAR-10 Batch 4:  Loss:     0.7419 Validation Accuracy: 0.596400\n",
      "Epoch  5, CIFAR-10 Batch 5:  Loss:     0.6727 Validation Accuracy: 0.636800\n",
      "Epoch  6, CIFAR-10 Batch 1:  Loss:     0.7081 Validation Accuracy: 0.626200\n",
      "Epoch  6, CIFAR-10 Batch 2:  Loss:     0.6323 Validation Accuracy: 0.585200\n",
      "Epoch  6, CIFAR-10 Batch 3:  Loss:     0.4299 Validation Accuracy: 0.644600\n",
      "Epoch  6, CIFAR-10 Batch 4:  Loss:     0.5786 Validation Accuracy: 0.640600\n",
      "Epoch  6, CIFAR-10 Batch 5:  Loss:     0.5644 Validation Accuracy: 0.649800\n",
      "Epoch  7, CIFAR-10 Batch 1:  Loss:     0.6134 Validation Accuracy: 0.635200\n",
      "Epoch  7, CIFAR-10 Batch 2:  Loss:     0.5169 Validation Accuracy: 0.631800\n",
      "Epoch  7, CIFAR-10 Batch 3:  Loss:     0.3481 Validation Accuracy: 0.658600\n",
      "Epoch  7, CIFAR-10 Batch 4:  Loss:     0.4435 Validation Accuracy: 0.661800\n",
      "Epoch  7, CIFAR-10 Batch 5:  Loss:     0.4697 Validation Accuracy: 0.667200\n",
      "Epoch  8, CIFAR-10 Batch 1:  Loss:     0.5149 Validation Accuracy: 0.644400\n",
      "Epoch  8, CIFAR-10 Batch 2:  Loss:     0.4313 Validation Accuracy: 0.649800\n",
      "Epoch  8, CIFAR-10 Batch 3:  Loss:     0.2967 Validation Accuracy: 0.652000\n",
      "Epoch  8, CIFAR-10 Batch 4:  Loss:     0.3604 Validation Accuracy: 0.669800\n",
      "Epoch  8, CIFAR-10 Batch 5:  Loss:     0.4019 Validation Accuracy: 0.665200\n",
      "Epoch  9, CIFAR-10 Batch 1:  Loss:     0.4357 Validation Accuracy: 0.643000\n",
      "Epoch  9, CIFAR-10 Batch 2:  Loss:     0.3578 Validation Accuracy: 0.657000\n",
      "Epoch  9, CIFAR-10 Batch 3:  Loss:     0.2706 Validation Accuracy: 0.673400\n",
      "Epoch  9, CIFAR-10 Batch 4:  Loss:     0.3185 Validation Accuracy: 0.669400\n",
      "Epoch  9, CIFAR-10 Batch 5:  Loss:     0.3056 Validation Accuracy: 0.678800\n",
      "Epoch 10, CIFAR-10 Batch 1:  Loss:     0.3788 Validation Accuracy: 0.642000\n",
      "Epoch 10, CIFAR-10 Batch 2:  Loss:     0.2824 Validation Accuracy: 0.669800\n",
      "Epoch 10, CIFAR-10 Batch 3:  Loss:     0.2454 Validation Accuracy: 0.687000\n",
      "Epoch 10, CIFAR-10 Batch 4:  Loss:     0.2875 Validation Accuracy: 0.681800\n",
      "Epoch 10, CIFAR-10 Batch 5:  Loss:     0.2558 Validation Accuracy: 0.668400\n",
      "Epoch 11, CIFAR-10 Batch 1:  Loss:     0.3618 Validation Accuracy: 0.653800\n",
      "Epoch 11, CIFAR-10 Batch 2:  Loss:     0.2306 Validation Accuracy: 0.673800\n",
      "Epoch 11, CIFAR-10 Batch 3:  Loss:     0.2043 Validation Accuracy: 0.684400\n",
      "Epoch 11, CIFAR-10 Batch 4:  Loss:     0.2573 Validation Accuracy: 0.682800\n",
      "Epoch 11, CIFAR-10 Batch 5:  Loss:     0.2562 Validation Accuracy: 0.639000\n",
      "Epoch 12, CIFAR-10 Batch 1:  Loss:     0.3209 Validation Accuracy: 0.673600\n",
      "Epoch 12, CIFAR-10 Batch 2:  Loss:     0.2385 Validation Accuracy: 0.675400\n",
      "Epoch 12, CIFAR-10 Batch 3:  Loss:     0.2172 Validation Accuracy: 0.671000\n",
      "Epoch 12, CIFAR-10 Batch 4:  Loss:     0.2254 Validation Accuracy: 0.679800\n",
      "Epoch 12, CIFAR-10 Batch 5:  Loss:     0.2143 Validation Accuracy: 0.648400\n",
      "Epoch 13, CIFAR-10 Batch 1:  Loss:     0.2714 Validation Accuracy: 0.672600\n",
      "Epoch 13, CIFAR-10 Batch 2:  Loss:     0.1927 Validation Accuracy: 0.690200\n",
      "Epoch 13, CIFAR-10 Batch 3:  Loss:     0.1795 Validation Accuracy: 0.684800\n",
      "Epoch 13, CIFAR-10 Batch 4:  Loss:     0.1980 Validation Accuracy: 0.672400\n",
      "Epoch 13, CIFAR-10 Batch 5:  Loss:     0.1817 Validation Accuracy: 0.669200\n",
      "Epoch 14, CIFAR-10 Batch 1:  Loss:     0.2385 Validation Accuracy: 0.676600\n",
      "Epoch 14, CIFAR-10 Batch 2:  Loss:     0.1803 Validation Accuracy: 0.672600\n",
      "Epoch 14, CIFAR-10 Batch 3:  Loss:     0.1428 Validation Accuracy: 0.688200\n",
      "Epoch 14, CIFAR-10 Batch 4:  Loss:     0.1714 Validation Accuracy: 0.655800\n",
      "Epoch 14, CIFAR-10 Batch 5:  Loss:     0.1661 Validation Accuracy: 0.669200\n",
      "Epoch 15, CIFAR-10 Batch 1:  Loss:     0.2161 Validation Accuracy: 0.676400\n",
      "Epoch 15, CIFAR-10 Batch 2:  Loss:     0.1814 Validation Accuracy: 0.654800\n",
      "Epoch 15, CIFAR-10 Batch 3:  Loss:     0.1311 Validation Accuracy: 0.686200\n",
      "Epoch 15, CIFAR-10 Batch 4:  Loss:     0.1614 Validation Accuracy: 0.647600\n",
      "Epoch 15, CIFAR-10 Batch 5:  Loss:     0.1851 Validation Accuracy: 0.648000\n",
      "Epoch 16, CIFAR-10 Batch 1:  Loss:     0.2246 Validation Accuracy: 0.670600\n",
      "Epoch 16, CIFAR-10 Batch 2:  Loss:     0.1500 Validation Accuracy: 0.645800\n",
      "Epoch 16, CIFAR-10 Batch 3:  Loss:     0.1226 Validation Accuracy: 0.675400\n",
      "Epoch 16, CIFAR-10 Batch 4:  Loss:     0.1629 Validation Accuracy: 0.659200\n",
      "Epoch 16, CIFAR-10 Batch 5:  Loss:     0.1426 Validation Accuracy: 0.674200\n",
      "Epoch 17, CIFAR-10 Batch 1:  Loss:     0.1651 Validation Accuracy: 0.687400\n",
      "Epoch 17, CIFAR-10 Batch 2:  Loss:     0.1296 Validation Accuracy: 0.669400\n",
      "Epoch 17, CIFAR-10 Batch 3:  Loss:     0.0917 Validation Accuracy: 0.697400\n",
      "Epoch 17, CIFAR-10 Batch 4:  Loss:     0.2034 Validation Accuracy: 0.634600\n",
      "Epoch 17, CIFAR-10 Batch 5:  Loss:     0.1035 Validation Accuracy: 0.688800\n",
      "Epoch 18, CIFAR-10 Batch 1:  Loss:     0.1763 Validation Accuracy: 0.667400\n",
      "Epoch 18, CIFAR-10 Batch 2:  Loss:     0.1337 Validation Accuracy: 0.660000\n",
      "Epoch 18, CIFAR-10 Batch 3:  Loss:     0.0833 Validation Accuracy: 0.687400\n",
      "Epoch 18, CIFAR-10 Batch 4:  Loss:     0.1553 Validation Accuracy: 0.654000\n",
      "Epoch 18, CIFAR-10 Batch 5:  Loss:     0.1099 Validation Accuracy: 0.671600\n",
      "Epoch 19, CIFAR-10 Batch 1:  Loss:     0.1582 Validation Accuracy: 0.656000\n",
      "Epoch 19, CIFAR-10 Batch 2:  Loss:     0.0973 Validation Accuracy: 0.675000\n",
      "Epoch 19, CIFAR-10 Batch 3:  Loss:     0.0687 Validation Accuracy: 0.697200\n",
      "Epoch 19, CIFAR-10 Batch 4:  Loss:     0.1204 Validation Accuracy: 0.683200\n",
      "Epoch 19, CIFAR-10 Batch 5:  Loss:     0.0874 Validation Accuracy: 0.688000\n",
      "Epoch 20, CIFAR-10 Batch 1:  Loss:     0.1337 Validation Accuracy: 0.670200\n",
      "Epoch 20, CIFAR-10 Batch 2:  Loss:     0.0969 Validation Accuracy: 0.664800\n",
      "Epoch 20, CIFAR-10 Batch 3:  Loss:     0.0804 Validation Accuracy: 0.673800\n",
      "Epoch 20, CIFAR-10 Batch 4:  Loss:     0.1532 Validation Accuracy: 0.655800\n",
      "Epoch 20, CIFAR-10 Batch 5:  Loss:     0.0905 Validation Accuracy: 0.684800\n",
      "Epoch 21, CIFAR-10 Batch 1:  Loss:     0.1155 Validation Accuracy: 0.666000\n",
      "Epoch 21, CIFAR-10 Batch 2:  Loss:     0.1045 Validation Accuracy: 0.662600\n",
      "Epoch 21, CIFAR-10 Batch 3:  Loss:     0.0877 Validation Accuracy: 0.659400\n",
      "Epoch 21, CIFAR-10 Batch 4:  Loss:     0.1316 Validation Accuracy: 0.651600\n",
      "Epoch 21, CIFAR-10 Batch 5:  Loss:     0.0749 Validation Accuracy: 0.679800\n",
      "Epoch 22, CIFAR-10 Batch 1:  Loss:     0.0987 Validation Accuracy: 0.664800\n",
      "Epoch 22, CIFAR-10 Batch 2:  Loss:     0.0794 Validation Accuracy: 0.663200\n",
      "Epoch 22, CIFAR-10 Batch 3:  Loss:     0.0784 Validation Accuracy: 0.648000\n",
      "Epoch 22, CIFAR-10 Batch 4:  Loss:     0.1036 Validation Accuracy: 0.659400\n",
      "Epoch 22, CIFAR-10 Batch 5:  Loss:     0.0682 Validation Accuracy: 0.671200\n",
      "Epoch 23, CIFAR-10 Batch 1:  Loss:     0.1106 Validation Accuracy: 0.648000\n",
      "Epoch 23, CIFAR-10 Batch 2:  Loss:     0.0799 Validation Accuracy: 0.665400\n",
      "Epoch 23, CIFAR-10 Batch 3:  Loss:     0.0490 Validation Accuracy: 0.671000\n",
      "Epoch 23, CIFAR-10 Batch 4:  Loss:     0.0872 Validation Accuracy: 0.659400\n",
      "Epoch 23, CIFAR-10 Batch 5:  Loss:     0.0759 Validation Accuracy: 0.655800\n",
      "Epoch 24, CIFAR-10 Batch 1:  Loss:     0.0930 Validation Accuracy: 0.660200\n",
      "Epoch 24, CIFAR-10 Batch 2:  Loss:     0.0842 Validation Accuracy: 0.683200\n",
      "Epoch 24, CIFAR-10 Batch 3:  Loss:     0.0405 Validation Accuracy: 0.675400\n",
      "Epoch 24, CIFAR-10 Batch 4:  Loss:     0.0852 Validation Accuracy: 0.651600\n",
      "Epoch 24, CIFAR-10 Batch 5:  Loss:     0.0904 Validation Accuracy: 0.641800\n",
      "Epoch 25, CIFAR-10 Batch 1:  Loss:     0.0772 Validation Accuracy: 0.683000\n",
      "Epoch 25, CIFAR-10 Batch 2:  Loss:     0.0884 Validation Accuracy: 0.680400\n",
      "Epoch 25, CIFAR-10 Batch 3:  Loss:     0.0552 Validation Accuracy: 0.668200\n",
      "Epoch 25, CIFAR-10 Batch 4:  Loss:     0.0748 Validation Accuracy: 0.661800\n",
      "Epoch 25, CIFAR-10 Batch 5:  Loss:     0.0629 Validation Accuracy: 0.660000\n",
      "Epoch 26, CIFAR-10 Batch 1:  Loss:     0.0844 Validation Accuracy: 0.677600\n",
      "Epoch 26, CIFAR-10 Batch 2:  Loss:     0.0502 Validation Accuracy: 0.681200\n",
      "Epoch 26, CIFAR-10 Batch 3:  Loss:     0.0718 Validation Accuracy: 0.662200\n",
      "Epoch 26, CIFAR-10 Batch 4:  Loss:     0.0497 Validation Accuracy: 0.677800\n",
      "Epoch 26, CIFAR-10 Batch 5:  Loss:     0.0404 Validation Accuracy: 0.686000\n",
      "Epoch 27, CIFAR-10 Batch 1:  Loss:     0.0846 Validation Accuracy: 0.661200\n",
      "Epoch 27, CIFAR-10 Batch 2:  Loss:     0.0372 Validation Accuracy: 0.696000\n",
      "Epoch 27, CIFAR-10 Batch 3:  Loss:     0.0673 Validation Accuracy: 0.658200\n",
      "Epoch 27, CIFAR-10 Batch 4:  Loss:     0.0645 Validation Accuracy: 0.670200\n",
      "Epoch 27, CIFAR-10 Batch 5:  Loss:     0.0374 Validation Accuracy: 0.677400\n",
      "Epoch 28, CIFAR-10 Batch 1:  Loss:     0.0783 Validation Accuracy: 0.687000\n",
      "Epoch 28, CIFAR-10 Batch 2:  Loss:     0.0452 Validation Accuracy: 0.667200\n",
      "Epoch 28, CIFAR-10 Batch 3:  Loss:     0.0495 Validation Accuracy: 0.639600\n",
      "Epoch 28, CIFAR-10 Batch 4:  Loss:     0.0508 Validation Accuracy: 0.679000\n",
      "Epoch 28, CIFAR-10 Batch 5:  Loss:     0.0448 Validation Accuracy: 0.693200\n",
      "Epoch 29, CIFAR-10 Batch 1:  Loss:     0.0822 Validation Accuracy: 0.691400\n",
      "Epoch 29, CIFAR-10 Batch 2:  Loss:     0.0335 Validation Accuracy: 0.670200\n",
      "Epoch 29, CIFAR-10 Batch 3:  Loss:     0.0240 Validation Accuracy: 0.674600\n",
      "Epoch 29, CIFAR-10 Batch 4:  Loss:     0.0435 Validation Accuracy: 0.672800\n",
      "Epoch 29, CIFAR-10 Batch 5:  Loss:     0.0231 Validation Accuracy: 0.695400\n",
      "Epoch 30, CIFAR-10 Batch 1:  Loss:     0.0551 Validation Accuracy: 0.693800\n",
      "Epoch 30, CIFAR-10 Batch 2:  Loss:     0.0263 Validation Accuracy: 0.678400\n",
      "Epoch 30, CIFAR-10 Batch 3:  Loss:     0.0227 Validation Accuracy: 0.671400\n",
      "Epoch 30, CIFAR-10 Batch 4:  Loss:     0.0447 Validation Accuracy: 0.665200\n",
      "Epoch 30, CIFAR-10 Batch 5:  Loss:     0.0254 Validation Accuracy: 0.675000\n",
      "Epoch 31, CIFAR-10 Batch 1:  Loss:     0.0523 Validation Accuracy: 0.659000\n",
      "Epoch 31, CIFAR-10 Batch 2:  Loss:     0.0513 Validation Accuracy: 0.654000\n",
      "Epoch 31, CIFAR-10 Batch 3:  Loss:     0.0224 Validation Accuracy: 0.679000\n",
      "Epoch 31, CIFAR-10 Batch 4:  Loss:     0.0466 Validation Accuracy: 0.674000\n",
      "Epoch 31, CIFAR-10 Batch 5:  Loss:     0.0144 Validation Accuracy: 0.690400\n",
      "Epoch 32, CIFAR-10 Batch 1:  Loss:     0.0540 Validation Accuracy: 0.667600\n",
      "Epoch 32, CIFAR-10 Batch 2:  Loss:     0.0409 Validation Accuracy: 0.674600\n",
      "Epoch 32, CIFAR-10 Batch 3:  Loss:     0.0289 Validation Accuracy: 0.650800\n",
      "Epoch 32, CIFAR-10 Batch 4:  Loss:     0.0409 Validation Accuracy: 0.679000\n",
      "Epoch 32, CIFAR-10 Batch 5:  Loss:     0.0285 Validation Accuracy: 0.678400\n",
      "Epoch 33, CIFAR-10 Batch 1:  Loss:     0.0537 Validation Accuracy: 0.652600\n",
      "Epoch 33, CIFAR-10 Batch 2:  Loss:     0.0228 Validation Accuracy: 0.665600\n",
      "Epoch 33, CIFAR-10 Batch 3:  Loss:     0.0235 Validation Accuracy: 0.647200\n",
      "Epoch 33, CIFAR-10 Batch 4:  Loss:     0.0433 Validation Accuracy: 0.652800\n",
      "Epoch 33, CIFAR-10 Batch 5:  Loss:     0.0338 Validation Accuracy: 0.662200\n",
      "Epoch 34, CIFAR-10 Batch 1:  Loss:     0.0381 Validation Accuracy: 0.680400\n",
      "Epoch 34, CIFAR-10 Batch 2:  Loss:     0.0345 Validation Accuracy: 0.649800\n",
      "Epoch 34, CIFAR-10 Batch 3:  Loss:     0.0559 Validation Accuracy: 0.626000\n",
      "Epoch 34, CIFAR-10 Batch 4:  Loss:     0.0338 Validation Accuracy: 0.660800\n",
      "Epoch 34, CIFAR-10 Batch 5:  Loss:     0.0280 Validation Accuracy: 0.670600\n",
      "Epoch 35, CIFAR-10 Batch 1:  Loss:     0.0348 Validation Accuracy: 0.681200\n",
      "Epoch 35, CIFAR-10 Batch 2:  Loss:     0.0468 Validation Accuracy: 0.645200\n",
      "Epoch 35, CIFAR-10 Batch 3:  Loss:     0.0447 Validation Accuracy: 0.640200\n",
      "Epoch 35, CIFAR-10 Batch 4:  Loss:     0.0750 Validation Accuracy: 0.638200\n",
      "Epoch 35, CIFAR-10 Batch 5:  Loss:     0.0469 Validation Accuracy: 0.654000\n",
      "Epoch 36, CIFAR-10 Batch 1:  Loss:     0.0261 Validation Accuracy: 0.678400\n",
      "Epoch 36, CIFAR-10 Batch 2:  Loss:     0.0411 Validation Accuracy: 0.641600\n",
      "Epoch 36, CIFAR-10 Batch 3:  Loss:     0.0330 Validation Accuracy: 0.642600\n",
      "Epoch 36, CIFAR-10 Batch 4:  Loss:     0.0500 Validation Accuracy: 0.650200\n",
      "Epoch 36, CIFAR-10 Batch 5:  Loss:     0.0222 Validation Accuracy: 0.684400\n",
      "Epoch 37, CIFAR-10 Batch 1:  Loss:     0.0344 Validation Accuracy: 0.682600\n",
      "Epoch 37, CIFAR-10 Batch 2:  Loss:     0.0173 Validation Accuracy: 0.664600\n",
      "Epoch 37, CIFAR-10 Batch 3:  Loss:     0.0555 Validation Accuracy: 0.634600\n",
      "Epoch 37, CIFAR-10 Batch 4:  Loss:     0.0582 Validation Accuracy: 0.655400\n",
      "Epoch 37, CIFAR-10 Batch 5:  Loss:     0.0430 Validation Accuracy: 0.679000\n",
      "Epoch 38, CIFAR-10 Batch 1:  Loss:     0.0611 Validation Accuracy: 0.650200\n",
      "Epoch 38, CIFAR-10 Batch 2:  Loss:     0.0114 Validation Accuracy: 0.681000\n",
      "Epoch 38, CIFAR-10 Batch 3:  Loss:     0.0377 Validation Accuracy: 0.655000\n",
      "Epoch 38, CIFAR-10 Batch 4:  Loss:     0.0664 Validation Accuracy: 0.661800\n",
      "Epoch 38, CIFAR-10 Batch 5:  Loss:     0.0171 Validation Accuracy: 0.689600\n",
      "Epoch 39, CIFAR-10 Batch 1:  Loss:     0.0231 Validation Accuracy: 0.686800\n",
      "Epoch 39, CIFAR-10 Batch 2:  Loss:     0.0211 Validation Accuracy: 0.673600\n",
      "Epoch 39, CIFAR-10 Batch 3:  Loss:     0.0240 Validation Accuracy: 0.666000\n",
      "Epoch 39, CIFAR-10 Batch 4:  Loss:     0.0576 Validation Accuracy: 0.657400\n",
      "Epoch 39, CIFAR-10 Batch 5:  Loss:     0.0229 Validation Accuracy: 0.674600\n",
      "Epoch 40, CIFAR-10 Batch 1:  Loss:     0.0269 Validation Accuracy: 0.677000\n",
      "Epoch 40, CIFAR-10 Batch 2:  Loss:     0.0112 Validation Accuracy: 0.684400\n",
      "Epoch 40, CIFAR-10 Batch 3:  Loss:     0.0118 Validation Accuracy: 0.667000\n",
      "Epoch 40, CIFAR-10 Batch 4:  Loss:     0.0361 Validation Accuracy: 0.669600\n",
      "Epoch 40, CIFAR-10 Batch 5:  Loss:     0.0296 Validation Accuracy: 0.649200\n",
      "Epoch 41, CIFAR-10 Batch 1:  Loss:     0.0307 Validation Accuracy: 0.680800\n",
      "Epoch 41, CIFAR-10 Batch 2:  Loss:     0.0087 Validation Accuracy: 0.679800\n",
      "Epoch 41, CIFAR-10 Batch 3:  Loss:     0.0184 Validation Accuracy: 0.658200\n",
      "Epoch 41, CIFAR-10 Batch 4:  Loss:     0.0159 Validation Accuracy: 0.671600\n",
      "Epoch 41, CIFAR-10 Batch 5:  Loss:     0.0211 Validation Accuracy: 0.668600\n",
      "Epoch 42, CIFAR-10 Batch 1:  Loss:     0.0199 Validation Accuracy: 0.687400\n",
      "Epoch 42, CIFAR-10 Batch 2:  Loss:     0.0143 Validation Accuracy: 0.680000\n",
      "Epoch 42, CIFAR-10 Batch 3:  Loss:     0.0470 Validation Accuracy: 0.616000\n",
      "Epoch 42, CIFAR-10 Batch 4:  Loss:     0.0165 Validation Accuracy: 0.676000\n",
      "Epoch 42, CIFAR-10 Batch 5:  Loss:     0.0181 Validation Accuracy: 0.666000\n",
      "Epoch 43, CIFAR-10 Batch 1:  Loss:     0.0316 Validation Accuracy: 0.684000\n",
      "Epoch 43, CIFAR-10 Batch 2:  Loss:     0.0235 Validation Accuracy: 0.687000\n",
      "Epoch 43, CIFAR-10 Batch 3:  Loss:     0.0227 Validation Accuracy: 0.637600\n",
      "Epoch 43, CIFAR-10 Batch 4:  Loss:     0.0245 Validation Accuracy: 0.670600\n",
      "Epoch 43, CIFAR-10 Batch 5:  Loss:     0.0120 Validation Accuracy: 0.662800\n",
      "Epoch 44, CIFAR-10 Batch 1:  Loss:     0.0227 Validation Accuracy: 0.683800\n",
      "Epoch 44, CIFAR-10 Batch 2:  Loss:     0.0211 Validation Accuracy: 0.675000\n",
      "Epoch 44, CIFAR-10 Batch 3:  Loss:     0.0054 Validation Accuracy: 0.676800\n",
      "Epoch 44, CIFAR-10 Batch 4:  Loss:     0.0355 Validation Accuracy: 0.665200\n",
      "Epoch 44, CIFAR-10 Batch 5:  Loss:     0.0198 Validation Accuracy: 0.651000\n",
      "Epoch 45, CIFAR-10 Batch 1:  Loss:     0.0267 Validation Accuracy: 0.679800\n",
      "Epoch 45, CIFAR-10 Batch 2:  Loss:     0.0195 Validation Accuracy: 0.665400\n",
      "Epoch 45, CIFAR-10 Batch 3:  Loss:     0.0137 Validation Accuracy: 0.658600\n",
      "Epoch 45, CIFAR-10 Batch 4:  Loss:     0.0384 Validation Accuracy: 0.656800\n",
      "Epoch 45, CIFAR-10 Batch 5:  Loss:     0.0141 Validation Accuracy: 0.662200\n",
      "Epoch 46, CIFAR-10 Batch 1:  Loss:     0.0364 Validation Accuracy: 0.663200\n",
      "Epoch 46, CIFAR-10 Batch 2:  Loss:     0.0241 Validation Accuracy: 0.659600\n",
      "Epoch 46, CIFAR-10 Batch 3:  Loss:     0.0166 Validation Accuracy: 0.666400\n",
      "Epoch 46, CIFAR-10 Batch 4:  Loss:     0.0314 Validation Accuracy: 0.646200\n",
      "Epoch 46, CIFAR-10 Batch 5:  Loss:     0.0106 Validation Accuracy: 0.671400\n",
      "Epoch 47, CIFAR-10 Batch 1:  Loss:     0.0333 Validation Accuracy: 0.670600\n",
      "Epoch 47, CIFAR-10 Batch 2:  Loss:     0.0314 Validation Accuracy: 0.640400\n",
      "Epoch 47, CIFAR-10 Batch 3:  Loss:     0.0146 Validation Accuracy: 0.666800\n",
      "Epoch 47, CIFAR-10 Batch 4:  Loss:     0.0177 Validation Accuracy: 0.649000\n",
      "Epoch 47, CIFAR-10 Batch 5:  Loss:     0.0246 Validation Accuracy: 0.671000\n",
      "Epoch 48, CIFAR-10 Batch 1:  Loss:     0.0357 Validation Accuracy: 0.669400\n",
      "Epoch 48, CIFAR-10 Batch 2:  Loss:     0.0085 Validation Accuracy: 0.669600\n",
      "Epoch 48, CIFAR-10 Batch 3:  Loss:     0.0099 Validation Accuracy: 0.673600\n",
      "Epoch 48, CIFAR-10 Batch 4:  Loss:     0.0091 Validation Accuracy: 0.674400\n",
      "Epoch 48, CIFAR-10 Batch 5:  Loss:     0.0065 Validation Accuracy: 0.669400\n",
      "Epoch 49, CIFAR-10 Batch 1:  Loss:     0.0149 Validation Accuracy: 0.647600\n",
      "Epoch 49, CIFAR-10 Batch 2:  Loss:     0.0129 Validation Accuracy: 0.670800\n",
      "Epoch 49, CIFAR-10 Batch 3:  Loss:     0.0086 Validation Accuracy: 0.674400\n",
      "Epoch 49, CIFAR-10 Batch 4:  Loss:     0.0134 Validation Accuracy: 0.690200\n",
      "Epoch 49, CIFAR-10 Batch 5:  Loss:     0.0081 Validation Accuracy: 0.664800\n",
      "Epoch 50, CIFAR-10 Batch 1:  Loss:     0.0221 Validation Accuracy: 0.649600\n",
      "Epoch 50, CIFAR-10 Batch 2:  Loss:     0.0171 Validation Accuracy: 0.636600\n",
      "Epoch 50, CIFAR-10 Batch 3:  Loss:     0.0102 Validation Accuracy: 0.673000\n",
      "Epoch 50, CIFAR-10 Batch 4:  Loss:     0.0125 Validation Accuracy: 0.683400\n",
      "Epoch 50, CIFAR-10 Batch 5:  Loss:     0.0098 Validation Accuracy: 0.653800\n",
      "Epoch 51, CIFAR-10 Batch 1:  Loss:     0.0175 Validation Accuracy: 0.655200\n",
      "Epoch 51, CIFAR-10 Batch 2:  Loss:     0.0155 Validation Accuracy: 0.633800\n",
      "Epoch 51, CIFAR-10 Batch 3:  Loss:     0.0163 Validation Accuracy: 0.648200\n",
      "Epoch 51, CIFAR-10 Batch 4:  Loss:     0.0171 Validation Accuracy: 0.674400\n",
      "Epoch 51, CIFAR-10 Batch 5:  Loss:     0.0163 Validation Accuracy: 0.655200\n",
      "Epoch 52, CIFAR-10 Batch 1:  Loss:     0.0257 Validation Accuracy: 0.645000\n",
      "Epoch 52, CIFAR-10 Batch 2:  Loss:     0.0146 Validation Accuracy: 0.637600\n",
      "Epoch 52, CIFAR-10 Batch 3:  Loss:     0.0056 Validation Accuracy: 0.640400\n",
      "Epoch 52, CIFAR-10 Batch 4:  Loss:     0.0144 Validation Accuracy: 0.660000\n",
      "Epoch 52, CIFAR-10 Batch 5:  Loss:     0.0108 Validation Accuracy: 0.665800\n",
      "Epoch 53, CIFAR-10 Batch 1:  Loss:     0.0211 Validation Accuracy: 0.648800\n",
      "Epoch 53, CIFAR-10 Batch 2:  Loss:     0.0182 Validation Accuracy: 0.638800\n",
      "Epoch 53, CIFAR-10 Batch 3:  Loss:     0.0090 Validation Accuracy: 0.641800\n",
      "Epoch 53, CIFAR-10 Batch 4:  Loss:     0.0044 Validation Accuracy: 0.681000\n",
      "Epoch 53, CIFAR-10 Batch 5:  Loss:     0.0060 Validation Accuracy: 0.659200\n",
      "Epoch 54, CIFAR-10 Batch 1:  Loss:     0.0193 Validation Accuracy: 0.665200\n",
      "Epoch 54, CIFAR-10 Batch 2:  Loss:     0.0095 Validation Accuracy: 0.652000\n",
      "Epoch 54, CIFAR-10 Batch 3:  Loss:     0.0196 Validation Accuracy: 0.628200\n",
      "Epoch 54, CIFAR-10 Batch 4:  Loss:     0.0088 Validation Accuracy: 0.681400\n",
      "Epoch 54, CIFAR-10 Batch 5:  Loss:     0.0123 Validation Accuracy: 0.663400\n",
      "Epoch 55, CIFAR-10 Batch 1:  Loss:     0.0179 Validation Accuracy: 0.655800\n",
      "Epoch 55, CIFAR-10 Batch 2:  Loss:     0.0134 Validation Accuracy: 0.671000\n",
      "Epoch 55, CIFAR-10 Batch 3:  Loss:     0.0127 Validation Accuracy: 0.643600\n",
      "Epoch 55, CIFAR-10 Batch 4:  Loss:     0.0144 Validation Accuracy: 0.668400\n",
      "Epoch 55, CIFAR-10 Batch 5:  Loss:     0.0108 Validation Accuracy: 0.661800\n",
      "Epoch 56, CIFAR-10 Batch 1:  Loss:     0.0116 Validation Accuracy: 0.664200\n",
      "Epoch 56, CIFAR-10 Batch 2:  Loss:     0.0131 Validation Accuracy: 0.665000\n",
      "Epoch 56, CIFAR-10 Batch 3:  Loss:     0.0404 Validation Accuracy: 0.636600\n",
      "Epoch 56, CIFAR-10 Batch 4:  Loss:     0.0081 Validation Accuracy: 0.673200\n",
      "Epoch 56, CIFAR-10 Batch 5:  Loss:     0.0146 Validation Accuracy: 0.662200\n",
      "Epoch 57, CIFAR-10 Batch 1:  Loss:     0.0142 Validation Accuracy: 0.633400\n",
      "Epoch 57, CIFAR-10 Batch 2:  Loss:     0.0114 Validation Accuracy: 0.657600\n",
      "Epoch 57, CIFAR-10 Batch 3:  Loss:     0.0106 Validation Accuracy: 0.655400\n",
      "Epoch 57, CIFAR-10 Batch 4:  Loss:     0.0070 Validation Accuracy: 0.671000\n",
      "Epoch 57, CIFAR-10 Batch 5:  Loss:     0.0101 Validation Accuracy: 0.673400\n",
      "Epoch 58, CIFAR-10 Batch 1:  Loss:     0.0222 Validation Accuracy: 0.654400\n",
      "Epoch 58, CIFAR-10 Batch 2:  Loss:     0.0175 Validation Accuracy: 0.642600\n",
      "Epoch 58, CIFAR-10 Batch 3:  Loss:     0.0123 Validation Accuracy: 0.663400\n",
      "Epoch 58, CIFAR-10 Batch 4:  Loss:     0.0101 Validation Accuracy: 0.677000\n",
      "Epoch 58, CIFAR-10 Batch 5:  Loss:     0.0044 Validation Accuracy: 0.676400\n",
      "Epoch 59, CIFAR-10 Batch 1:  Loss:     0.0136 Validation Accuracy: 0.665800\n",
      "Epoch 59, CIFAR-10 Batch 2:  Loss:     0.0049 Validation Accuracy: 0.642000\n",
      "Epoch 59, CIFAR-10 Batch 3:  Loss:     0.0109 Validation Accuracy: 0.658600\n",
      "Epoch 59, CIFAR-10 Batch 4:  Loss:     0.0065 Validation Accuracy: 0.665000\n",
      "Epoch 59, CIFAR-10 Batch 5:  Loss:     0.0019 Validation Accuracy: 0.685400\n",
      "Epoch 60, CIFAR-10 Batch 1:  Loss:     0.0108 Validation Accuracy: 0.669000\n",
      "Epoch 60, CIFAR-10 Batch 2:  Loss:     0.0044 Validation Accuracy: 0.658200\n",
      "Epoch 60, CIFAR-10 Batch 3:  Loss:     0.0032 Validation Accuracy: 0.657200\n",
      "Epoch 60, CIFAR-10 Batch 4:  Loss:     0.0364 Validation Accuracy: 0.629000\n",
      "Epoch 60, CIFAR-10 Batch 5:  Loss:     0.0038 Validation Accuracy: 0.675600\n",
      "Epoch 61, CIFAR-10 Batch 1:  Loss:     0.0126 Validation Accuracy: 0.663200\n",
      "Epoch 61, CIFAR-10 Batch 2:  Loss:     0.0055 Validation Accuracy: 0.657800\n",
      "Epoch 61, CIFAR-10 Batch 3:  Loss:     0.0044 Validation Accuracy: 0.654800\n",
      "Epoch 61, CIFAR-10 Batch 4:  Loss:     0.0095 Validation Accuracy: 0.642000\n",
      "Epoch 61, CIFAR-10 Batch 5:  Loss:     0.0013 Validation Accuracy: 0.686400\n",
      "Epoch 62, CIFAR-10 Batch 1:  Loss:     0.0090 Validation Accuracy: 0.674400\n",
      "Epoch 62, CIFAR-10 Batch 2:  Loss:     0.0048 Validation Accuracy: 0.655600\n",
      "Epoch 62, CIFAR-10 Batch 3:  Loss:     0.0027 Validation Accuracy: 0.654400\n",
      "Epoch 62, CIFAR-10 Batch 4:  Loss:     0.0372 Validation Accuracy: 0.645800\n",
      "Epoch 62, CIFAR-10 Batch 5:  Loss:     0.0052 Validation Accuracy: 0.661800\n",
      "Epoch 63, CIFAR-10 Batch 1:  Loss:     0.0113 Validation Accuracy: 0.661800\n",
      "Epoch 63, CIFAR-10 Batch 2:  Loss:     0.0200 Validation Accuracy: 0.617800\n",
      "Epoch 63, CIFAR-10 Batch 3:  Loss:     0.0231 Validation Accuracy: 0.616800\n",
      "Epoch 63, CIFAR-10 Batch 4:  Loss:     0.0125 Validation Accuracy: 0.678000\n",
      "Epoch 63, CIFAR-10 Batch 5:  Loss:     0.0056 Validation Accuracy: 0.674400\n",
      "Epoch 64, CIFAR-10 Batch 1:  Loss:     0.0141 Validation Accuracy: 0.666400\n",
      "Epoch 64, CIFAR-10 Batch 2:  Loss:     0.0082 Validation Accuracy: 0.631400\n",
      "Epoch 64, CIFAR-10 Batch 3:  Loss:     0.0034 Validation Accuracy: 0.670400\n",
      "Epoch 64, CIFAR-10 Batch 4:  Loss:     0.0051 Validation Accuracy: 0.669600\n",
      "Epoch 64, CIFAR-10 Batch 5:  Loss:     0.0014 Validation Accuracy: 0.680400\n",
      "Epoch 65, CIFAR-10 Batch 1:  Loss:     0.0044 Validation Accuracy: 0.685000\n",
      "Epoch 65, CIFAR-10 Batch 2:  Loss:     0.0173 Validation Accuracy: 0.627800\n",
      "Epoch 65, CIFAR-10 Batch 3:  Loss:     0.0046 Validation Accuracy: 0.673200\n",
      "Epoch 65, CIFAR-10 Batch 4:  Loss:     0.0056 Validation Accuracy: 0.668400\n",
      "Epoch 65, CIFAR-10 Batch 5:  Loss:     0.0038 Validation Accuracy: 0.667200\n",
      "Epoch 66, CIFAR-10 Batch 1:  Loss:     0.0051 Validation Accuracy: 0.685600\n",
      "Epoch 66, CIFAR-10 Batch 2:  Loss:     0.0134 Validation Accuracy: 0.615400\n",
      "Epoch 66, CIFAR-10 Batch 3:  Loss:     0.0090 Validation Accuracy: 0.678000\n",
      "Epoch 66, CIFAR-10 Batch 4:  Loss:     0.0032 Validation Accuracy: 0.668400\n",
      "Epoch 66, CIFAR-10 Batch 5:  Loss:     0.0043 Validation Accuracy: 0.656000\n",
      "Epoch 67, CIFAR-10 Batch 1:  Loss:     0.0039 Validation Accuracy: 0.673200\n",
      "Epoch 67, CIFAR-10 Batch 2:  Loss:     0.0056 Validation Accuracy: 0.651600\n",
      "Epoch 67, CIFAR-10 Batch 3:  Loss:     0.0025 Validation Accuracy: 0.684200\n",
      "Epoch 67, CIFAR-10 Batch 4:  Loss:     0.0014 Validation Accuracy: 0.672000\n",
      "Epoch 67, CIFAR-10 Batch 5:  Loss:     0.0023 Validation Accuracy: 0.653600\n",
      "Epoch 68, CIFAR-10 Batch 1:  Loss:     0.0015 Validation Accuracy: 0.674200\n",
      "Epoch 68, CIFAR-10 Batch 2:  Loss:     0.0007 Validation Accuracy: 0.673600\n",
      "Epoch 68, CIFAR-10 Batch 3:  Loss:     0.0020 Validation Accuracy: 0.656800\n",
      "Epoch 68, CIFAR-10 Batch 4:  Loss:     0.0017 Validation Accuracy: 0.660400\n",
      "Epoch 68, CIFAR-10 Batch 5:  Loss:     0.0014 Validation Accuracy: 0.676800\n",
      "Epoch 69, CIFAR-10 Batch 1:  Loss:     0.0052 Validation Accuracy: 0.670400\n",
      "Epoch 69, CIFAR-10 Batch 2:  Loss:     0.0039 Validation Accuracy: 0.660200\n",
      "Epoch 69, CIFAR-10 Batch 3:  Loss:     0.0014 Validation Accuracy: 0.657800\n",
      "Epoch 69, CIFAR-10 Batch 4:  Loss:     0.0038 Validation Accuracy: 0.657000\n",
      "Epoch 69, CIFAR-10 Batch 5:  Loss:     0.0032 Validation Accuracy: 0.660200\n",
      "Epoch 70, CIFAR-10 Batch 1:  Loss:     0.0044 Validation Accuracy: 0.682800\n",
      "Epoch 70, CIFAR-10 Batch 2:  Loss:     0.0060 Validation Accuracy: 0.673800\n",
      "Epoch 70, CIFAR-10 Batch 3:  Loss:     0.0063 Validation Accuracy: 0.642200\n",
      "Epoch 70, CIFAR-10 Batch 4:  Loss:     0.0058 Validation Accuracy: 0.668800\n",
      "Epoch 70, CIFAR-10 Batch 5:  Loss:     0.0007 Validation Accuracy: 0.681200\n",
      "Epoch 71, CIFAR-10 Batch 1:  Loss:     0.0032 Validation Accuracy: 0.664800\n",
      "Epoch 71, CIFAR-10 Batch 2:  Loss:     0.0017 Validation Accuracy: 0.682600\n",
      "Epoch 71, CIFAR-10 Batch 3:  Loss:     0.0011 Validation Accuracy: 0.658400\n",
      "Epoch 71, CIFAR-10 Batch 4:  Loss:     0.0045 Validation Accuracy: 0.677400\n",
      "Epoch 71, CIFAR-10 Batch 5:  Loss:     0.0002 Validation Accuracy: 0.676400\n",
      "Epoch 72, CIFAR-10 Batch 1:  Loss:     0.0019 Validation Accuracy: 0.667600\n",
      "Epoch 72, CIFAR-10 Batch 2:  Loss:     0.0015 Validation Accuracy: 0.675800\n",
      "Epoch 72, CIFAR-10 Batch 3:  Loss:     0.0015 Validation Accuracy: 0.682600\n",
      "Epoch 72, CIFAR-10 Batch 4:  Loss:     0.0035 Validation Accuracy: 0.664200\n",
      "Epoch 72, CIFAR-10 Batch 5:  Loss:     0.0008 Validation Accuracy: 0.679400\n",
      "Epoch 73, CIFAR-10 Batch 1:  Loss:     0.0079 Validation Accuracy: 0.651200\n",
      "Epoch 73, CIFAR-10 Batch 2:  Loss:     0.0015 Validation Accuracy: 0.681200\n",
      "Epoch 73, CIFAR-10 Batch 3:  Loss:     0.0022 Validation Accuracy: 0.669200\n",
      "Epoch 73, CIFAR-10 Batch 4:  Loss:     0.0025 Validation Accuracy: 0.660600\n",
      "Epoch 73, CIFAR-10 Batch 5:  Loss:     0.0005 Validation Accuracy: 0.679600\n",
      "Epoch 74, CIFAR-10 Batch 1:  Loss:     0.0042 Validation Accuracy: 0.665800\n",
      "Epoch 74, CIFAR-10 Batch 2:  Loss:     0.0035 Validation Accuracy: 0.668800\n",
      "Epoch 74, CIFAR-10 Batch 3:  Loss:     0.0030 Validation Accuracy: 0.636600\n",
      "Epoch 74, CIFAR-10 Batch 4:  Loss:     0.0054 Validation Accuracy: 0.645400\n",
      "Epoch 74, CIFAR-10 Batch 5:  Loss:     0.0021 Validation Accuracy: 0.674600\n",
      "Epoch 75, CIFAR-10 Batch 1:  Loss:     0.0049 Validation Accuracy: 0.665400\n",
      "Epoch 75, CIFAR-10 Batch 2:  Loss:     0.0010 Validation Accuracy: 0.678600\n",
      "Epoch 75, CIFAR-10 Batch 3:  Loss:     0.0060 Validation Accuracy: 0.642600\n",
      "Epoch 75, CIFAR-10 Batch 4:  Loss:     0.0113 Validation Accuracy: 0.660200\n",
      "Epoch 75, CIFAR-10 Batch 5:  Loss:     0.0024 Validation Accuracy: 0.665000\n",
      "Epoch 76, CIFAR-10 Batch 1:  Loss:     0.0095 Validation Accuracy: 0.668400\n",
      "Epoch 76, CIFAR-10 Batch 2:  Loss:     0.0042 Validation Accuracy: 0.675000\n",
      "Epoch 76, CIFAR-10 Batch 3:  Loss:     0.0113 Validation Accuracy: 0.658800\n",
      "Epoch 76, CIFAR-10 Batch 4:  Loss:     0.0017 Validation Accuracy: 0.664600\n",
      "Epoch 76, CIFAR-10 Batch 5:  Loss:     0.0012 Validation Accuracy: 0.684000\n",
      "Epoch 77, CIFAR-10 Batch 1:  Loss:     0.0011 Validation Accuracy: 0.635800\n",
      "Epoch 77, CIFAR-10 Batch 2:  Loss:     0.0005 Validation Accuracy: 0.681000\n",
      "Epoch 77, CIFAR-10 Batch 3:  Loss:     0.0040 Validation Accuracy: 0.656800\n",
      "Epoch 77, CIFAR-10 Batch 4:  Loss:     0.0038 Validation Accuracy: 0.651400\n",
      "Epoch 77, CIFAR-10 Batch 5:  Loss:     0.0010 Validation Accuracy: 0.671400\n",
      "Epoch 78, CIFAR-10 Batch 1:  Loss:     0.0025 Validation Accuracy: 0.664600\n",
      "Epoch 78, CIFAR-10 Batch 2:  Loss:     0.0036 Validation Accuracy: 0.673200\n",
      "Epoch 78, CIFAR-10 Batch 3:  Loss:     0.0025 Validation Accuracy: 0.673400\n",
      "Epoch 78, CIFAR-10 Batch 4:  Loss:     0.0012 Validation Accuracy: 0.681400\n",
      "Epoch 78, CIFAR-10 Batch 5:  Loss:     0.0003 Validation Accuracy: 0.683400\n",
      "Epoch 79, CIFAR-10 Batch 1:  Loss:     0.0037 Validation Accuracy: 0.641200\n",
      "Epoch 79, CIFAR-10 Batch 2:  Loss:     0.0004 Validation Accuracy: 0.680000\n",
      "Epoch 79, CIFAR-10 Batch 3:  Loss:     0.0018 Validation Accuracy: 0.676800\n",
      "Epoch 79, CIFAR-10 Batch 4:  Loss:     0.0004 Validation Accuracy: 0.680000\n",
      "Epoch 79, CIFAR-10 Batch 5:  Loss:     0.0004 Validation Accuracy: 0.676000\n",
      "Epoch 80, CIFAR-10 Batch 1:  Loss:     0.0036 Validation Accuracy: 0.642800\n",
      "Epoch 80, CIFAR-10 Batch 2:  Loss:     0.0012 Validation Accuracy: 0.685600\n",
      "Epoch 80, CIFAR-10 Batch 3:  Loss:     0.0009 Validation Accuracy: 0.691800\n",
      "Epoch 80, CIFAR-10 Batch 4:  Loss:     0.0031 Validation Accuracy: 0.671400\n",
      "Epoch 80, CIFAR-10 Batch 5:  Loss:     0.0002 Validation Accuracy: 0.685000\n",
      "Epoch 81, CIFAR-10 Batch 1:  Loss:     0.0035 Validation Accuracy: 0.638000\n",
      "Epoch 81, CIFAR-10 Batch 2:  Loss:     0.0016 Validation Accuracy: 0.684600\n",
      "Epoch 81, CIFAR-10 Batch 3:  Loss:     0.0031 Validation Accuracy: 0.684600\n",
      "Epoch 81, CIFAR-10 Batch 4:  Loss:     0.0052 Validation Accuracy: 0.655200\n",
      "Epoch 81, CIFAR-10 Batch 5:  Loss:     0.0004 Validation Accuracy: 0.671600\n",
      "Epoch 82, CIFAR-10 Batch 1:  Loss:     0.0021 Validation Accuracy: 0.636600\n",
      "Epoch 82, CIFAR-10 Batch 2:  Loss:     0.0102 Validation Accuracy: 0.661000\n",
      "Epoch 82, CIFAR-10 Batch 3:  Loss:     0.0005 Validation Accuracy: 0.675400\n",
      "Epoch 82, CIFAR-10 Batch 4:  Loss:     0.0043 Validation Accuracy: 0.642600\n",
      "Epoch 82, CIFAR-10 Batch 5:  Loss:     0.0003 Validation Accuracy: 0.681400\n",
      "Epoch 83, CIFAR-10 Batch 1:  Loss:     0.0038 Validation Accuracy: 0.642800\n",
      "Epoch 83, CIFAR-10 Batch 2:  Loss:     0.0029 Validation Accuracy: 0.669200\n",
      "Epoch 83, CIFAR-10 Batch 3:  Loss:     0.0003 Validation Accuracy: 0.674200\n",
      "Epoch 83, CIFAR-10 Batch 4:  Loss:     0.0073 Validation Accuracy: 0.661800\n",
      "Epoch 83, CIFAR-10 Batch 5:  Loss:     0.0007 Validation Accuracy: 0.669600\n",
      "Epoch 84, CIFAR-10 Batch 1:  Loss:     0.0007 Validation Accuracy: 0.652600\n",
      "Epoch 84, CIFAR-10 Batch 2:  Loss:     0.0027 Validation Accuracy: 0.667600\n",
      "Epoch 84, CIFAR-10 Batch 3:  Loss:     0.0017 Validation Accuracy: 0.671200\n",
      "Epoch 84, CIFAR-10 Batch 4:  Loss:     0.0055 Validation Accuracy: 0.659200\n",
      "Epoch 84, CIFAR-10 Batch 5:  Loss:     0.0007 Validation Accuracy: 0.667600\n",
      "Epoch 85, CIFAR-10 Batch 1:  Loss:     0.0011 Validation Accuracy: 0.679400\n",
      "Epoch 85, CIFAR-10 Batch 2:  Loss:     0.0036 Validation Accuracy: 0.662200\n",
      "Epoch 85, CIFAR-10 Batch 3:  Loss:     0.0019 Validation Accuracy: 0.671400\n",
      "Epoch 85, CIFAR-10 Batch 4:  Loss:     0.0025 Validation Accuracy: 0.676000\n",
      "Epoch 85, CIFAR-10 Batch 5:  Loss:     0.0003 Validation Accuracy: 0.670600\n",
      "Epoch 86, CIFAR-10 Batch 1:  Loss:     0.0045 Validation Accuracy: 0.666400\n",
      "Epoch 86, CIFAR-10 Batch 2:  Loss:     0.0047 Validation Accuracy: 0.648800\n",
      "Epoch 86, CIFAR-10 Batch 3:  Loss:     0.0028 Validation Accuracy: 0.676800\n",
      "Epoch 86, CIFAR-10 Batch 4:  Loss:     0.0035 Validation Accuracy: 0.676400\n",
      "Epoch 86, CIFAR-10 Batch 5:  Loss:     0.0008 Validation Accuracy: 0.667400\n",
      "Epoch 87, CIFAR-10 Batch 1:  Loss:     0.0019 Validation Accuracy: 0.677800\n",
      "Epoch 87, CIFAR-10 Batch 2:  Loss:     0.0065 Validation Accuracy: 0.650800\n",
      "Epoch 87, CIFAR-10 Batch 3:  Loss:     0.0052 Validation Accuracy: 0.670600\n",
      "Epoch 87, CIFAR-10 Batch 4:  Loss:     0.0014 Validation Accuracy: 0.671000\n",
      "Epoch 87, CIFAR-10 Batch 5:  Loss:     0.0014 Validation Accuracy: 0.652800\n",
      "Epoch 88, CIFAR-10 Batch 1:  Loss:     0.0012 Validation Accuracy: 0.661800\n",
      "Epoch 88, CIFAR-10 Batch 2:  Loss:     0.0050 Validation Accuracy: 0.657400\n",
      "Epoch 88, CIFAR-10 Batch 3:  Loss:     0.0011 Validation Accuracy: 0.682200\n",
      "Epoch 88, CIFAR-10 Batch 4:  Loss:     0.0014 Validation Accuracy: 0.676800\n",
      "Epoch 88, CIFAR-10 Batch 5:  Loss:     0.0016 Validation Accuracy: 0.654000\n",
      "Epoch 89, CIFAR-10 Batch 1:  Loss:     0.0007 Validation Accuracy: 0.666400\n",
      "Epoch 89, CIFAR-10 Batch 2:  Loss:     0.0039 Validation Accuracy: 0.675600\n",
      "Epoch 89, CIFAR-10 Batch 3:  Loss:     0.0082 Validation Accuracy: 0.672600\n",
      "Epoch 89, CIFAR-10 Batch 4:  Loss:     0.0026 Validation Accuracy: 0.670600\n",
      "Epoch 89, CIFAR-10 Batch 5:  Loss:     0.0083 Validation Accuracy: 0.645000\n",
      "Epoch 90, CIFAR-10 Batch 1:  Loss:     0.0041 Validation Accuracy: 0.661000\n",
      "Epoch 90, CIFAR-10 Batch 2:  Loss:     0.0012 Validation Accuracy: 0.666800\n",
      "Epoch 90, CIFAR-10 Batch 3:  Loss:     0.0008 Validation Accuracy: 0.681600\n",
      "Epoch 90, CIFAR-10 Batch 4:  Loss:     0.0012 Validation Accuracy: 0.670000\n",
      "Epoch 90, CIFAR-10 Batch 5:  Loss:     0.0085 Validation Accuracy: 0.668200\n",
      "Epoch 91, CIFAR-10 Batch 1:  Loss:     0.0066 Validation Accuracy: 0.652000\n",
      "Epoch 91, CIFAR-10 Batch 2:  Loss:     0.0012 Validation Accuracy: 0.675000\n",
      "Epoch 91, CIFAR-10 Batch 3:  Loss:     0.0009 Validation Accuracy: 0.685400\n",
      "Epoch 91, CIFAR-10 Batch 4:  Loss:     0.0020 Validation Accuracy: 0.647000\n",
      "Epoch 91, CIFAR-10 Batch 5:  Loss:     0.0001 Validation Accuracy: 0.675800\n",
      "Epoch 92, CIFAR-10 Batch 1:  Loss:     0.0034 Validation Accuracy: 0.649000\n",
      "Epoch 92, CIFAR-10 Batch 2:  Loss:     0.0002 Validation Accuracy: 0.658800\n",
      "Epoch 92, CIFAR-10 Batch 3:  Loss:     0.0024 Validation Accuracy: 0.676000\n",
      "Epoch 92, CIFAR-10 Batch 4:  Loss:     0.0033 Validation Accuracy: 0.644000\n",
      "Epoch 92, CIFAR-10 Batch 5:  Loss:     0.0015 Validation Accuracy: 0.653000\n",
      "Epoch 93, CIFAR-10 Batch 1:  Loss:     0.0009 Validation Accuracy: 0.659600\n",
      "Epoch 93, CIFAR-10 Batch 2:  Loss:     0.0009 Validation Accuracy: 0.665600\n",
      "Epoch 93, CIFAR-10 Batch 3:  Loss:     0.0010 Validation Accuracy: 0.674200\n",
      "Epoch 93, CIFAR-10 Batch 4:  Loss:     0.0023 Validation Accuracy: 0.653000\n",
      "Epoch 93, CIFAR-10 Batch 5:  Loss:     0.0060 Validation Accuracy: 0.663600\n",
      "Epoch 94, CIFAR-10 Batch 1:  Loss:     0.0027 Validation Accuracy: 0.666000\n",
      "Epoch 94, CIFAR-10 Batch 2:  Loss:     0.0010 Validation Accuracy: 0.661400\n",
      "Epoch 94, CIFAR-10 Batch 3:  Loss:     0.0020 Validation Accuracy: 0.678800\n",
      "Epoch 94, CIFAR-10 Batch 4:  Loss:     0.0009 Validation Accuracy: 0.656400\n",
      "Epoch 94, CIFAR-10 Batch 5:  Loss:     0.0030 Validation Accuracy: 0.642800\n",
      "Epoch 95, CIFAR-10 Batch 1:  Loss:     0.0005 Validation Accuracy: 0.654600\n",
      "Epoch 95, CIFAR-10 Batch 2:  Loss:     0.0009 Validation Accuracy: 0.663800\n",
      "Epoch 95, CIFAR-10 Batch 3:  Loss:     0.0015 Validation Accuracy: 0.672200\n",
      "Epoch 95, CIFAR-10 Batch 4:  Loss:     0.0008 Validation Accuracy: 0.648200\n",
      "Epoch 95, CIFAR-10 Batch 5:  Loss:     0.0027 Validation Accuracy: 0.637000\n",
      "Epoch 96, CIFAR-10 Batch 1:  Loss:     0.0049 Validation Accuracy: 0.674800\n",
      "Epoch 96, CIFAR-10 Batch 2:  Loss:     0.0033 Validation Accuracy: 0.653600\n",
      "Epoch 96, CIFAR-10 Batch 3:  Loss:     0.0029 Validation Accuracy: 0.678600\n",
      "Epoch 96, CIFAR-10 Batch 4:  Loss:     0.0019 Validation Accuracy: 0.644600\n",
      "Epoch 96, CIFAR-10 Batch 5:  Loss:     0.0050 Validation Accuracy: 0.626200\n",
      "Epoch 97, CIFAR-10 Batch 1:  Loss:     0.0039 Validation Accuracy: 0.663600\n",
      "Epoch 97, CIFAR-10 Batch 2:  Loss:     0.0068 Validation Accuracy: 0.670800\n",
      "Epoch 97, CIFAR-10 Batch 3:  Loss:     0.0021 Validation Accuracy: 0.674600\n",
      "Epoch 97, CIFAR-10 Batch 4:  Loss:     0.0037 Validation Accuracy: 0.653000\n",
      "Epoch 97, CIFAR-10 Batch 5:  Loss:     0.0002 Validation Accuracy: 0.672800\n",
      "Epoch 98, CIFAR-10 Batch 1:  Loss:     0.0022 Validation Accuracy: 0.667400\n",
      "Epoch 98, CIFAR-10 Batch 2:  Loss:     0.0037 Validation Accuracy: 0.655200\n",
      "Epoch 98, CIFAR-10 Batch 3:  Loss:     0.0016 Validation Accuracy: 0.676600\n",
      "Epoch 98, CIFAR-10 Batch 4:  Loss:     0.0073 Validation Accuracy: 0.659600\n",
      "Epoch 98, CIFAR-10 Batch 5:  Loss:     0.0018 Validation Accuracy: 0.667600\n",
      "Epoch 99, CIFAR-10 Batch 1:  Loss:     0.0033 Validation Accuracy: 0.682200\n",
      "Epoch 99, CIFAR-10 Batch 2:  Loss:     0.0019 Validation Accuracy: 0.682800\n",
      "Epoch 99, CIFAR-10 Batch 3:  Loss:     0.0026 Validation Accuracy: 0.662000\n",
      "Epoch 99, CIFAR-10 Batch 4:  Loss:     0.0023 Validation Accuracy: 0.654000\n",
      "Epoch 99, CIFAR-10 Batch 5:  Loss:     0.0006 Validation Accuracy: 0.671800\n",
      "Epoch 100, CIFAR-10 Batch 1:  Loss:     0.0032 Validation Accuracy: 0.658200\n",
      "Epoch 100, CIFAR-10 Batch 2:  Loss:     0.0023 Validation Accuracy: 0.681000\n",
      "Epoch 100, CIFAR-10 Batch 3:  Loss:     0.0014 Validation Accuracy: 0.669000\n",
      "Epoch 100, CIFAR-10 Batch 4:  Loss:     0.0005 Validation Accuracy: 0.674200\n",
      "Epoch 100, CIFAR-10 Batch 5:  Loss:     0.0005 Validation Accuracy: 0.669200\n"
     ]
    }
   ],
   "source": [
    "\"\"\"\n",
    "DON'T MODIFY ANYTHING IN THIS CELL\n",
    "\"\"\"\n",
    "save_model_path = './image_classification'\n",
    "\n",
    "print('Training...')\n",
    "with tf.Session() as sess:\n",
    "    # Initializing the variables\n",
    "    sess.run(tf.global_variables_initializer())\n",
    "    \n",
    "    # Training cycle\n",
    "    for epoch in range(epochs):\n",
    "        # Loop over all batches\n",
    "        n_batches = 5\n",
    "        for batch_i in range(1, n_batches + 1):\n",
    "            for batch_features, batch_labels in helper.load_preprocess_training_batch(batch_i, batch_size):\n",
    "                train_neural_network(sess, optimizer, keep_probability, batch_features, batch_labels)\n",
    "            print('Epoch {:>2}, CIFAR-10 Batch {}:  '.format(epoch + 1, batch_i), end='')\n",
    "            print_stats(sess, batch_features, batch_labels, cost, accuracy)\n",
    "            \n",
    "    # Save Model\n",
    "    saver = tf.train.Saver()\n",
    "    save_path = saver.save(sess, save_model_path)"
   ]
  },
  {
   "cell_type": "markdown",
   "metadata": {
    "deletable": true,
    "editable": true
   },
   "source": [
    "# Checkpoint\n",
    "The model has been saved to disk.\n",
    "## Test Model\n",
    "Test your model against the test dataset.  This will be your final accuracy. You should have an accuracy greater than 50%. If you don't, keep tweaking the model architecture and parameters."
   ]
  },
  {
   "cell_type": "code",
   "execution_count": 1,
   "metadata": {
    "collapsed": false,
    "deletable": true,
    "editable": true
   },
   "outputs": [
    {
     "name": "stdout",
     "output_type": "stream",
     "text": [
      "Testing Accuracy: 0.6610270700636943\n",
      "\n"
     ]
    },
    {
     "data": {
      "image/png": "[encoded data removed]",
      "text/plain": [
       "<matplotlib.figure.Figure at 0x7f6b0bfb9f28>"
      ]
     },
     "metadata": {
      "image/png": {
       "height": 319,
       "width": 355
      }
     },
     "output_type": "display_data"
    }
   ],
   "source": [
    "\"\"\"\n",
    "DON'T MODIFY ANYTHING IN THIS CELL\n",
    "\"\"\"\n",
    "%matplotlib inline\n",
    "%config InlineBackend.figure_format = 'retina'\n",
    "\n",
    "import tensorflow as tf\n",
    "import pickle\n",
    "import helper\n",
    "import random\n",
    "\n",
    "# Set batch size if not already set\n",
    "try:\n",
    "    if batch_size:\n",
    "        pass\n",
    "except NameError:\n",
    "    batch_size = 64\n",
    "\n",
    "save_model_path = './image_classification'\n",
    "n_samples = 4\n",
    "top_n_predictions = 3\n",
    "\n",
    "def test_model():\n",
    "    \"\"\"\n",
    "    Test the saved model against the test dataset\n",
    "    \"\"\"\n",
    "\n",
    "    test_features, test_labels = pickle.load(open('preprocess_training.p', mode='rb'))\n",
    "    loaded_graph = tf.Graph()\n",
    "\n",
    "    with tf.Session(graph=loaded_graph) as sess:\n",
    "        # Load model\n",
    "        loader = tf.train.import_meta_graph(save_model_path + '.meta')\n",
    "        loader.restore(sess, save_model_path)\n",
    "\n",
    "        # Get Tensors from loaded model\n",
    "        loaded_x = loaded_graph.get_tensor_by_name('x:0')\n",
    "        loaded_y = loaded_graph.get_tensor_by_name('y:0')\n",
    "        loaded_keep_prob = loaded_graph.get_tensor_by_name('keep_prob:0')\n",
    "        loaded_logits = loaded_graph.get_tensor_by_name('logits:0')\n",
    "        loaded_acc = loaded_graph.get_tensor_by_name('accuracy:0')\n",
    "        \n",
    "        # Get accuracy in batches for memory limitations\n",
    "        test_batch_acc_total = 0\n",
    "        test_batch_count = 0\n",
    "        \n",
    "        for train_feature_batch, train_label_batch in helper.batch_features_labels(test_features, test_labels, batch_size):\n",
    "            test_batch_acc_total += sess.run(\n",
    "                loaded_acc,\n",
    "                feed_dict={loaded_x: train_feature_batch, loaded_y: train_label_batch, loaded_keep_prob: 1.0})\n",
    "            test_batch_count += 1\n",
    "\n",
    "        print('Testing Accuracy: {}\\n'.format(test_batch_acc_total/test_batch_count))\n",
    "\n",
    "        # Print Random Samples\n",
    "        random_test_features, random_test_labels = tuple(zip(*random.sample(list(zip(test_features, test_labels)), n_samples)))\n",
    "        random_test_predictions = sess.run(\n",
    "            tf.nn.top_k(tf.nn.softmax(loaded_logits), top_n_predictions),\n",
    "            feed_dict={loaded_x: random_test_features, loaded_y: random_test_labels, loaded_keep_prob: 1.0})\n",
    "        helper.display_image_predictions(random_test_features, random_test_labels, random_test_predictions)\n",
    "\n",
    "\n",
    "test_model()"
   ]
  },
  {
   "cell_type": "markdown",
   "metadata": {
    "deletable": true,
    "editable": true
   },
   "source": [
    "## Why 50-70% Accuracy?\n",
    "You might be wondering why you can't get an accuracy any higher. First things first, 50% isn't bad for a simple CNN.  Pure guessing would get you 10% accuracy. However, you might notice people are getting scores [well above 70%](http://rodrigob.github.io/are_we_there_yet/build/classification_datasets_results.html#43494641522d3130).  That's because we haven't taught you all there is to know about neural networks. We still need to cover a few more techniques.\n",
    "## Submitting This Project\n",
    "When submitting this project, make sure to run all the cells before saving the notebook.  Save the notebook file as \"dlnd_image_classification.ipynb\" and save it as a HTML file under \"File\" -> \"Download as\".  Include the \"helper.py\" and \"problem_unittests.py\" files in your submission."
   ]
  }
 ],
 "metadata": {
  "kernelspec": {
   "display_name": "Python 3",
   "language": "python",
   "name": "python3"
  },
  "language_info": {
   "codemirror_mode": {
    "name": "ipython",
    "version": 3
   },
   "file_extension": ".py",
   "mimetype": "text/x-python",
   "name": "python",
   "nbconvert_exporter": "python",
   "pygments_lexer": "ipython3",
   "version": "3.5.2"
  },
  "widgets": {
   "state": {},
   "version": "1.1.2"
  }
 },
 "nbformat": 4,
 "nbformat_minor": 0
}
